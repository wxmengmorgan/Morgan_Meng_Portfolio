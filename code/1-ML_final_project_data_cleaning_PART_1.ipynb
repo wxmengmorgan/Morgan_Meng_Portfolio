{
 "cells": [
  {
   "cell_type": "code",
   "execution_count": 1,
   "id": "a3b2e8b7-9fe6-45e8-9d4b-a0162a1fb567",
   "metadata": {},
   "outputs": [],
   "source": [
    "import pandas as pd\n",
    "import numpy as np"
   ]
  },
  {
   "cell_type": "code",
   "execution_count": 2,
   "id": "ae9721ac-3c3d-4596-9b6c-26c67eeaade5",
   "metadata": {},
   "outputs": [],
   "source": [
    "df= pd.read_csv('/Users/morgan/Desktop/SEIS 763 ML/archive/postings.csv',header=0)"
   ]
  },
  {
   "cell_type": "code",
   "execution_count": 3,
   "id": "90b98573-141e-46a5-8ea3-ad71f5af4f89",
   "metadata": {},
   "outputs": [
    {
     "data": {
      "text/plain": [
       "(123849, 31)"
      ]
     },
     "execution_count": 3,
     "metadata": {},
     "output_type": "execute_result"
    }
   ],
   "source": [
    "df.shape"
   ]
  },
  {
   "cell_type": "code",
   "execution_count": 4,
   "id": "eaf2cf82-29ed-4c2a-a323-6630c9db4763",
   "metadata": {},
   "outputs": [
    {
     "data": {
      "text/plain": [
       "Index(['job_id', 'company_name', 'title', 'description', 'max_salary',\n",
       "       'pay_period', 'location', 'company_id', 'views', 'med_salary',\n",
       "       'min_salary', 'formatted_work_type', 'applies', 'original_listed_time',\n",
       "       'remote_allowed', 'job_posting_url', 'application_url',\n",
       "       'application_type', 'expiry', 'closed_time',\n",
       "       'formatted_experience_level', 'skills_desc', 'listed_time',\n",
       "       'posting_domain', 'sponsored', 'work_type', 'currency',\n",
       "       'compensation_type', 'normalized_salary', 'zip_code', 'fips'],\n",
       "      dtype='object')"
      ]
     },
     "execution_count": 4,
     "metadata": {},
     "output_type": "execute_result"
    }
   ],
   "source": [
    "df.columns"
   ]
  },
  {
   "cell_type": "code",
   "execution_count": 5,
   "id": "6a5566d5-a232-4792-b635-8024028e2e64",
   "metadata": {},
   "outputs": [
    {
     "data": {
      "text/plain": [
       "<bound method Series.unique of 0         FULL_TIME\n",
       "1         FULL_TIME\n",
       "2         FULL_TIME\n",
       "3         FULL_TIME\n",
       "4         FULL_TIME\n",
       "            ...    \n",
       "123844    FULL_TIME\n",
       "123845    FULL_TIME\n",
       "123846    FULL_TIME\n",
       "123847    FULL_TIME\n",
       "123848    FULL_TIME\n",
       "Name: work_type, Length: 123849, dtype: object>"
      ]
     },
     "execution_count": 5,
     "metadata": {},
     "output_type": "execute_result"
    }
   ],
   "source": [
    "df['work_type'].unique"
   ]
  },
  {
   "cell_type": "code",
   "execution_count": 6,
   "id": "4c77edcc-cdb3-4102-a619-a92ce4c48afc",
   "metadata": {},
   "outputs": [],
   "source": [
    "#drop unrelated columns\n",
    "df = df.drop(['job_posting_url','application_url','application_type','closed_time','posting_domain', 'sponsored','compensation_type','fips','med_salary','skills_desc','remote_allowed','applies'], axis=1)"
   ]
  },
  {
   "cell_type": "code",
   "execution_count": 7,
   "id": "4ab59239-9b13-4f20-a265-a06517b609d9",
   "metadata": {},
   "outputs": [
    {
     "data": {
      "text/plain": [
       "(110931, 19)"
      ]
     },
     "execution_count": 7,
     "metadata": {},
     "output_type": "execute_result"
    }
   ],
   "source": [
    "# choosing only full time and contract job postings,drop other types of jobs(part-time, intern, temporary)\n",
    "df_cleaned = df[(df['work_type'].isin(['FULL_TIME', 'CONTRACT']))]\n",
    "df_cleaned.shape"
   ]
  },
  {
   "cell_type": "code",
   "execution_count": 8,
   "id": "7b87d168-c394-4ae9-95a5-17f010e444cb",
   "metadata": {},
   "outputs": [
    {
     "name": "stdout",
     "output_type": "stream",
     "text": [
      "job_id                            0\n",
      "company_name                   1424\n",
      "title                             0\n",
      "description                       7\n",
      "max_salary                    83161\n",
      "pay_period                    77949\n",
      "location                          0\n",
      "company_id                     1422\n",
      "views                          1599\n",
      "min_salary                    83161\n",
      "formatted_work_type               0\n",
      "original_listed_time              0\n",
      "expiry                            0\n",
      "formatted_experience_level    26591\n",
      "listed_time                       0\n",
      "work_type                         0\n",
      "currency                      77949\n",
      "normalized_salary             77949\n",
      "zip_code                      19228\n",
      "dtype: int64\n"
     ]
    }
   ],
   "source": [
    "#stats for missing values of each columnb\n",
    "missing_values = df_cleaned.isnull().sum()\n",
    "\n",
    "print(missing_values)"
   ]
  },
  {
   "cell_type": "code",
   "execution_count": 9,
   "id": "f3c61f6f-ab3b-4055-a786-2d640a7783db",
   "metadata": {},
   "outputs": [
    {
     "data": {
      "text/plain": [
       "(106222, 19)"
      ]
     },
     "execution_count": 9,
     "metadata": {},
     "output_type": "execute_result"
    }
   ],
   "source": [
    "# Calculate the number of missing values per row\n",
    "missing_values_per_row = df_cleaned.isnull().sum(axis=1)\n",
    "\n",
    "# Drop rows with more than 10 missing values (adjust the threshold as needed)\n",
    "df_cleaned = df_cleaned[missing_values_per_row <= 6]\n",
    "\n",
    "df_cleaned.shape"
   ]
  },
  {
   "cell_type": "code",
   "execution_count": 10,
   "id": "445e5c82-76b6-4a79-b023-ec53d8918186",
   "metadata": {},
   "outputs": [],
   "source": [
    "# drop all rows without company info\n",
    "df_cleaned = df_cleaned.dropna(subset=['company_name'])"
   ]
  },
  {
   "cell_type": "code",
   "execution_count": 11,
   "id": "8f16212c-0e46-49d3-b76f-7b783af0ecaa",
   "metadata": {},
   "outputs": [
    {
     "data": {
      "text/plain": [
       "(105796, 19)"
      ]
     },
     "execution_count": 11,
     "metadata": {},
     "output_type": "execute_result"
    }
   ],
   "source": [
    "df_cleaned.shape"
   ]
  },
  {
   "cell_type": "code",
   "execution_count": 12,
   "id": "0d330504-9526-47ae-a9ac-50b2e712ad95",
   "metadata": {},
   "outputs": [],
   "source": [
    "#changing time columns format from u-8\n",
    "import datetime\n",
    "\n",
    "# change time format\n",
    "df_cleaned['original_listed_time'] = pd.to_datetime(df_cleaned['original_listed_time'], unit='ms')\n",
    "df_cleaned['expiry'] = pd.to_datetime(df_cleaned['expiry'], unit='ms')\n",
    "df_cleaned['listed_time'] = pd.to_datetime(df_cleaned['listed_time'], unit='ms')"
   ]
  },
  {
   "cell_type": "code",
   "execution_count": 13,
   "id": "16fd7746-6445-45ae-9def-3151871ecec9",
   "metadata": {},
   "outputs": [
    {
     "data": {
      "text/plain": [
       "(32556, 19)"
      ]
     },
     "execution_count": 13,
     "metadata": {},
     "output_type": "execute_result"
    }
   ],
   "source": [
    "# drop jobs without any salary info. \n",
    "df_cleaned = df_cleaned.dropna(subset=['max_salary','pay_period','min_salary','normalized_salary','currency'],how='all')\n",
    "df_cleaned.shape"
   ]
  },
  {
   "cell_type": "code",
   "execution_count": 14,
   "id": "46024667-4377-4e9f-8fc2-80fb64f9de92",
   "metadata": {},
   "outputs": [],
   "source": [
    "#df_cleaned.to_csv('cleaned_posting_32556_salary_info.csv', index=False) "
   ]
  },
  {
   "cell_type": "code",
   "execution_count": 15,
   "id": "fda0e883-cafb-4707-be8e-d6a6e34c30c7",
   "metadata": {},
   "outputs": [
    {
     "data": {
      "text/html": [
       "<div>\n",
       "<style scoped>\n",
       "    .dataframe tbody tr th:only-of-type {\n",
       "        vertical-align: middle;\n",
       "    }\n",
       "\n",
       "    .dataframe tbody tr th {\n",
       "        vertical-align: top;\n",
       "    }\n",
       "\n",
       "    .dataframe thead th {\n",
       "        text-align: right;\n",
       "    }\n",
       "</style>\n",
       "<table border=\"1\" class=\"dataframe\">\n",
       "  <thead>\n",
       "    <tr style=\"text-align: right;\">\n",
       "      <th></th>\n",
       "      <th>job_id</th>\n",
       "      <th>company_name</th>\n",
       "      <th>title</th>\n",
       "      <th>description</th>\n",
       "      <th>max_salary</th>\n",
       "      <th>pay_period</th>\n",
       "      <th>location</th>\n",
       "      <th>company_id</th>\n",
       "      <th>views</th>\n",
       "      <th>min_salary</th>\n",
       "      <th>formatted_work_type</th>\n",
       "      <th>original_listed_time</th>\n",
       "      <th>expiry</th>\n",
       "      <th>formatted_experience_level</th>\n",
       "      <th>listed_time</th>\n",
       "      <th>work_type</th>\n",
       "      <th>currency</th>\n",
       "      <th>normalized_salary</th>\n",
       "      <th>zip_code</th>\n",
       "    </tr>\n",
       "  </thead>\n",
       "  <tbody>\n",
       "    <tr>\n",
       "      <th>0</th>\n",
       "      <td>921716</td>\n",
       "      <td>Corcoran Sawyer Smith</td>\n",
       "      <td>Marketing Coordinator</td>\n",
       "      <td>Job descriptionA leading real estate firm in N...</td>\n",
       "      <td>20.0</td>\n",
       "      <td>HOURLY</td>\n",
       "      <td>Princeton, NJ</td>\n",
       "      <td>2774458.0</td>\n",
       "      <td>20.0</td>\n",
       "      <td>17.0</td>\n",
       "      <td>Full-time</td>\n",
       "      <td>2024-04-17 23:45:08</td>\n",
       "      <td>2024-05-17 23:45:08</td>\n",
       "      <td>NaN</td>\n",
       "      <td>2024-04-17 23:45:08</td>\n",
       "      <td>FULL_TIME</td>\n",
       "      <td>USD</td>\n",
       "      <td>38480.0</td>\n",
       "      <td>8540.0</td>\n",
       "    </tr>\n",
       "    <tr>\n",
       "      <th>2</th>\n",
       "      <td>10998357</td>\n",
       "      <td>The National Exemplar</td>\n",
       "      <td>Assitant Restaurant Manager</td>\n",
       "      <td>The National Exemplar is accepting application...</td>\n",
       "      <td>65000.0</td>\n",
       "      <td>YEARLY</td>\n",
       "      <td>Cincinnati, OH</td>\n",
       "      <td>64896719.0</td>\n",
       "      <td>8.0</td>\n",
       "      <td>45000.0</td>\n",
       "      <td>Full-time</td>\n",
       "      <td>2024-04-16 14:26:54</td>\n",
       "      <td>2024-05-16 14:26:54</td>\n",
       "      <td>NaN</td>\n",
       "      <td>2024-04-16 14:26:54</td>\n",
       "      <td>FULL_TIME</td>\n",
       "      <td>USD</td>\n",
       "      <td>55000.0</td>\n",
       "      <td>45202.0</td>\n",
       "    </tr>\n",
       "    <tr>\n",
       "      <th>3</th>\n",
       "      <td>23221523</td>\n",
       "      <td>Abrams Fensterman, LLP</td>\n",
       "      <td>Senior Elder Law / Trusts and Estates Associat...</td>\n",
       "      <td>Senior Associate Attorney - Elder Law / Trusts...</td>\n",
       "      <td>175000.0</td>\n",
       "      <td>YEARLY</td>\n",
       "      <td>New Hyde Park, NY</td>\n",
       "      <td>766262.0</td>\n",
       "      <td>16.0</td>\n",
       "      <td>140000.0</td>\n",
       "      <td>Full-time</td>\n",
       "      <td>2024-04-12 04:23:32</td>\n",
       "      <td>2024-05-12 04:23:32</td>\n",
       "      <td>NaN</td>\n",
       "      <td>2024-04-12 04:23:32</td>\n",
       "      <td>FULL_TIME</td>\n",
       "      <td>USD</td>\n",
       "      <td>157500.0</td>\n",
       "      <td>11040.0</td>\n",
       "    </tr>\n",
       "    <tr>\n",
       "      <th>6</th>\n",
       "      <td>103254301</td>\n",
       "      <td>Raw Cereal</td>\n",
       "      <td>Producer</td>\n",
       "      <td>Company DescriptionRaw Cereal is a creative de...</td>\n",
       "      <td>300000.0</td>\n",
       "      <td>YEARLY</td>\n",
       "      <td>United States</td>\n",
       "      <td>81942316.0</td>\n",
       "      <td>7.0</td>\n",
       "      <td>60000.0</td>\n",
       "      <td>Contract</td>\n",
       "      <td>2024-04-11 18:43:39</td>\n",
       "      <td>2024-05-11 18:43:39</td>\n",
       "      <td>NaN</td>\n",
       "      <td>2024-04-11 18:43:39</td>\n",
       "      <td>CONTRACT</td>\n",
       "      <td>USD</td>\n",
       "      <td>180000.0</td>\n",
       "      <td>NaN</td>\n",
       "    </tr>\n",
       "    <tr>\n",
       "      <th>16</th>\n",
       "      <td>95428182</td>\n",
       "      <td>CLEVELAND KIDS BOOK BANK</td>\n",
       "      <td>Administrative Coordinator</td>\n",
       "      <td>Job Title: Administrative CoordinatorOrganizat...</td>\n",
       "      <td>NaN</td>\n",
       "      <td>HOURLY</td>\n",
       "      <td>Cleveland, OH</td>\n",
       "      <td>55624331.0</td>\n",
       "      <td>1.0</td>\n",
       "      <td>NaN</td>\n",
       "      <td>Full-time</td>\n",
       "      <td>2024-04-11 17:14:46</td>\n",
       "      <td>2024-05-11 17:14:46</td>\n",
       "      <td>NaN</td>\n",
       "      <td>2024-04-11 17:14:46</td>\n",
       "      <td>FULL_TIME</td>\n",
       "      <td>USD</td>\n",
       "      <td>52000.0</td>\n",
       "      <td>44102.0</td>\n",
       "    </tr>\n",
       "  </tbody>\n",
       "</table>\n",
       "</div>"
      ],
      "text/plain": [
       "       job_id              company_name  \\\n",
       "0      921716     Corcoran Sawyer Smith   \n",
       "2    10998357    The National Exemplar    \n",
       "3    23221523    Abrams Fensterman, LLP   \n",
       "6   103254301                Raw Cereal   \n",
       "16   95428182  CLEVELAND KIDS BOOK BANK   \n",
       "\n",
       "                                                title  \\\n",
       "0                               Marketing Coordinator   \n",
       "2                         Assitant Restaurant Manager   \n",
       "3   Senior Elder Law / Trusts and Estates Associat...   \n",
       "6                                            Producer   \n",
       "16                         Administrative Coordinator   \n",
       "\n",
       "                                          description  max_salary pay_period  \\\n",
       "0   Job descriptionA leading real estate firm in N...        20.0     HOURLY   \n",
       "2   The National Exemplar is accepting application...     65000.0     YEARLY   \n",
       "3   Senior Associate Attorney - Elder Law / Trusts...    175000.0     YEARLY   \n",
       "6   Company DescriptionRaw Cereal is a creative de...    300000.0     YEARLY   \n",
       "16  Job Title: Administrative CoordinatorOrganizat...         NaN     HOURLY   \n",
       "\n",
       "             location  company_id  views  min_salary formatted_work_type  \\\n",
       "0       Princeton, NJ   2774458.0   20.0        17.0           Full-time   \n",
       "2      Cincinnati, OH  64896719.0    8.0     45000.0           Full-time   \n",
       "3   New Hyde Park, NY    766262.0   16.0    140000.0           Full-time   \n",
       "6       United States  81942316.0    7.0     60000.0            Contract   \n",
       "16      Cleveland, OH  55624331.0    1.0         NaN           Full-time   \n",
       "\n",
       "   original_listed_time              expiry formatted_experience_level  \\\n",
       "0   2024-04-17 23:45:08 2024-05-17 23:45:08                        NaN   \n",
       "2   2024-04-16 14:26:54 2024-05-16 14:26:54                        NaN   \n",
       "3   2024-04-12 04:23:32 2024-05-12 04:23:32                        NaN   \n",
       "6   2024-04-11 18:43:39 2024-05-11 18:43:39                        NaN   \n",
       "16  2024-04-11 17:14:46 2024-05-11 17:14:46                        NaN   \n",
       "\n",
       "           listed_time  work_type currency  normalized_salary  zip_code  \n",
       "0  2024-04-17 23:45:08  FULL_TIME      USD            38480.0    8540.0  \n",
       "2  2024-04-16 14:26:54  FULL_TIME      USD            55000.0   45202.0  \n",
       "3  2024-04-12 04:23:32  FULL_TIME      USD           157500.0   11040.0  \n",
       "6  2024-04-11 18:43:39   CONTRACT      USD           180000.0       NaN  \n",
       "16 2024-04-11 17:14:46  FULL_TIME      USD            52000.0   44102.0  "
      ]
     },
     "execution_count": 15,
     "metadata": {},
     "output_type": "execute_result"
    }
   ],
   "source": [
    "df_cleaned.head()"
   ]
  },
  {
   "cell_type": "code",
   "execution_count": 16,
   "id": "5b560654-ce42-4193-97c4-58a1fea2f5ba",
   "metadata": {},
   "outputs": [
    {
     "data": {
      "text/plain": [
       "count    1.203600e+04\n",
       "mean     3.575726e+05\n",
       "std      8.682579e+06\n",
       "min      1.456000e+04\n",
       "25%      4.252560e+04\n",
       "50%      5.616000e+04\n",
       "75%      9.152000e+04\n",
       "max      5.356000e+08\n",
       "Name: normalized_salary, dtype: float64"
      ]
     },
     "execution_count": 16,
     "metadata": {},
     "output_type": "execute_result"
    }
   ],
   "source": [
    "# checking if hourly salary list hourly wage\n",
    "df_hourly = df_cleaned[(df_cleaned['pay_period'] == 'HOURLY')]\n",
    "df_hourly['normalized_salary'].describe()"
   ]
  },
  {
   "cell_type": "code",
   "execution_count": 17,
   "id": "bf1619ac-1184-4a02-bdd1-b47654344477",
   "metadata": {},
   "outputs": [
    {
     "name": "stdout",
     "output_type": "stream",
     "text": [
      "count      8498.000000\n",
      "mean        253.102448\n",
      "std        5389.509095\n",
      "min           7.000000\n",
      "25%          24.602500\n",
      "50%          33.585000\n",
      "75%          55.000000\n",
      "max      275000.000000\n",
      "Name: max_salary, dtype: float64\n",
      "count      8498.000000\n",
      "mean        210.097032\n",
      "std        4550.735878\n",
      "min           7.000000\n",
      "25%          19.500000\n",
      "50%          25.580000\n",
      "75%          43.255000\n",
      "max      240000.000000\n",
      "Name: min_salary, dtype: float64\n"
     ]
    }
   ],
   "source": [
    "print(df_hourly['max_salary'].describe())\n",
    "print(df_hourly['min_salary'].describe())"
   ]
  },
  {
   "cell_type": "code",
   "execution_count": 18,
   "id": "c302ccb9-86cb-431f-938b-ea11fb3e992c",
   "metadata": {},
   "outputs": [
    {
     "name": "stdout",
     "output_type": "stream",
     "text": [
      "0         False\n",
      "16        False\n",
      "45        False\n",
      "62        False\n",
      "65        False\n",
      "          ...  \n",
      "123819    False\n",
      "123821    False\n",
      "123832    False\n",
      "123837    False\n",
      "123843    False\n",
      "Name: max_salary, Length: 12036, dtype: bool\n"
     ]
    }
   ],
   "source": [
    "print(df_hourly['max_salary']>=2000)"
   ]
  },
  {
   "cell_type": "code",
   "execution_count": 19,
   "id": "97b56d8b-e30c-49ad-9e18-e5229e386bd4",
   "metadata": {},
   "outputs": [
    {
     "data": {
      "text/plain": [
       "count    1.994500e+04\n",
       "mean     1.207295e+05\n",
       "std      7.279382e+05\n",
       "min      0.000000e+00\n",
       "25%      7.398355e+04\n",
       "50%      1.025000e+05\n",
       "75%      1.425000e+05\n",
       "max      1.025000e+08\n",
       "Name: normalized_salary, dtype: float64"
      ]
     },
     "execution_count": 19,
     "metadata": {},
     "output_type": "execute_result"
    }
   ],
   "source": [
    "df_yearly = df_cleaned[(df_cleaned['pay_period'] == 'YEARLY')]\n",
    "df_yearly['normalized_salary'].describe()"
   ]
  },
  {
   "cell_type": "code",
   "execution_count": 41,
   "id": "97455dd4-4017-418c-a24d-b8adf95aaf43",
   "metadata": {},
   "outputs": [
    {
     "data": {
      "text/plain": [
       "Index(['job_id', 'company_name', 'title', 'description', 'max_salary',\n",
       "       'pay_period', 'location', 'company_id', 'views', 'min_salary',\n",
       "       'formatted_work_type', 'original_listed_time', 'expiry',\n",
       "       'formatted_experience_level', 'listed_time', 'work_type', 'currency',\n",
       "       'normalized_salary', 'zip_code'],\n",
       "      dtype='object')"
      ]
     },
     "execution_count": 41,
     "metadata": {},
     "output_type": "execute_result"
    }
   ],
   "source": [
    "df_cleaned.columns"
   ]
  },
  {
   "cell_type": "code",
   "execution_count": null,
   "id": "0191040b-e2bc-4cdf-8a8a-365195736c88",
   "metadata": {},
   "outputs": [],
   "source": []
  }
 ],
 "metadata": {
  "kernelspec": {
   "display_name": "Python 3 (ipykernel)",
   "language": "python",
   "name": "python3"
  },
  "language_info": {
   "codemirror_mode": {
    "name": "ipython",
    "version": 3
   },
   "file_extension": ".py",
   "mimetype": "text/x-python",
   "name": "python",
   "nbconvert_exporter": "python",
   "pygments_lexer": "ipython3",
   "version": "3.11.7"
  }
 },
 "nbformat": 4,
 "nbformat_minor": 5
}
