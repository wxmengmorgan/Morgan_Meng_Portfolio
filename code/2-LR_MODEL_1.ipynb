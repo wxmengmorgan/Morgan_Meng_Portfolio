{
 "cells": [
  {
   "cell_type": "code",
   "execution_count": 1,
   "id": "db7747b2-ee21-41c9-a596-350b54c9adad",
   "metadata": {},
   "outputs": [],
   "source": [
    "import pandas as pd"
   ]
  },
  {
   "cell_type": "code",
   "execution_count": 3,
   "id": "3c26a00c-cdca-4b07-b00c-053e3a5f1c2b",
   "metadata": {},
   "outputs": [
    {
     "data": {
      "text/html": [
       "<div>\n",
       "<style scoped>\n",
       "    .dataframe tbody tr th:only-of-type {\n",
       "        vertical-align: middle;\n",
       "    }\n",
       "\n",
       "    .dataframe tbody tr th {\n",
       "        vertical-align: top;\n",
       "    }\n",
       "\n",
       "    .dataframe thead th {\n",
       "        text-align: right;\n",
       "    }\n",
       "</style>\n",
       "<table border=\"1\" class=\"dataframe\">\n",
       "  <thead>\n",
       "    <tr style=\"text-align: right;\">\n",
       "      <th></th>\n",
       "      <th>job_id</th>\n",
       "      <th>title</th>\n",
       "      <th>work_type</th>\n",
       "      <th>description</th>\n",
       "      <th>location</th>\n",
       "      <th>zip_code</th>\n",
       "      <th>min_salary</th>\n",
       "      <th>max_salary</th>\n",
       "      <th>normalized_salary</th>\n",
       "      <th>views</th>\n",
       "      <th>...</th>\n",
       "      <th>sector</th>\n",
       "      <th>city</th>\n",
       "      <th>state</th>\n",
       "      <th>name</th>\n",
       "      <th>latitude</th>\n",
       "      <th>longitude</th>\n",
       "      <th>gdp</th>\n",
       "      <th>income</th>\n",
       "      <th>region</th>\n",
       "      <th>moving_score</th>\n",
       "    </tr>\n",
       "  </thead>\n",
       "  <tbody>\n",
       "    <tr>\n",
       "      <th>0</th>\n",
       "      <td>1014822088</td>\n",
       "      <td>Marketing Specialist</td>\n",
       "      <td>FULL_TIME</td>\n",
       "      <td>About TrackerTracker is a leading global cloud...</td>\n",
       "      <td>United States</td>\n",
       "      <td>NaN</td>\n",
       "      <td>70000.0</td>\n",
       "      <td>80000.0</td>\n",
       "      <td>75000.0</td>\n",
       "      <td>7.0</td>\n",
       "      <td>...</td>\n",
       "      <td>Information Technology</td>\n",
       "      <td>United States</td>\n",
       "      <td>US</td>\n",
       "      <td>Remote</td>\n",
       "      <td>NaN</td>\n",
       "      <td>NaN</td>\n",
       "      <td>483162.0</td>\n",
       "      <td>416325.0</td>\n",
       "      <td>Plains</td>\n",
       "      <td>50.000000</td>\n",
       "    </tr>\n",
       "    <tr>\n",
       "      <th>1</th>\n",
       "      <td>3189117072</td>\n",
       "      <td>Client Service Associate / Practice Manager</td>\n",
       "      <td>FULL_TIME</td>\n",
       "      <td>Company OverviewSignature Estate and Investmen...</td>\n",
       "      <td>Redondo Beach, CA</td>\n",
       "      <td>90277.0</td>\n",
       "      <td>70000.0</td>\n",
       "      <td>100000.0</td>\n",
       "      <td>85000.0</td>\n",
       "      <td>6.0</td>\n",
       "      <td>...</td>\n",
       "      <td>Energy</td>\n",
       "      <td>Redondo Beach</td>\n",
       "      <td>CA</td>\n",
       "      <td>California</td>\n",
       "      <td>36.778261</td>\n",
       "      <td>-119.417932</td>\n",
       "      <td>3870379.0</td>\n",
       "      <td>3166135.0</td>\n",
       "      <td>Far West</td>\n",
       "      <td>4.214518</td>\n",
       "    </tr>\n",
       "    <tr>\n",
       "      <th>2</th>\n",
       "      <td>3260455681</td>\n",
       "      <td>Operations Specialist</td>\n",
       "      <td>FULL_TIME</td>\n",
       "      <td>Weyerhaeuser is searching for a Operations Spe...</td>\n",
       "      <td>Castle Rock, WA</td>\n",
       "      <td>98611.0</td>\n",
       "      <td>72742.0</td>\n",
       "      <td>109113.0</td>\n",
       "      <td>90927.5</td>\n",
       "      <td>18.0</td>\n",
       "      <td>...</td>\n",
       "      <td>Materials</td>\n",
       "      <td>Castle Rock</td>\n",
       "      <td>WA</td>\n",
       "      <td>Washington</td>\n",
       "      <td>47.751074</td>\n",
       "      <td>-120.740139</td>\n",
       "      <td>807865.0</td>\n",
       "      <td>632296.0</td>\n",
       "      <td>Far West</td>\n",
       "      <td>4.703287</td>\n",
       "    </tr>\n",
       "    <tr>\n",
       "      <th>3</th>\n",
       "      <td>3277232283</td>\n",
       "      <td>HR &amp; Administrative Assistant</td>\n",
       "      <td>FULL_TIME</td>\n",
       "      <td>HR &amp; Administrative CoordinatorWork is Remote ...</td>\n",
       "      <td>United States</td>\n",
       "      <td>NaN</td>\n",
       "      <td>55000.0</td>\n",
       "      <td>72000.0</td>\n",
       "      <td>63500.0</td>\n",
       "      <td>59.0</td>\n",
       "      <td>...</td>\n",
       "      <td>Energy</td>\n",
       "      <td>United States</td>\n",
       "      <td>US</td>\n",
       "      <td>Remote</td>\n",
       "      <td>NaN</td>\n",
       "      <td>NaN</td>\n",
       "      <td>483162.0</td>\n",
       "      <td>416325.0</td>\n",
       "      <td>Plains</td>\n",
       "      <td>50.000000</td>\n",
       "    </tr>\n",
       "    <tr>\n",
       "      <th>4</th>\n",
       "      <td>3297645846</td>\n",
       "      <td>Contract Administrator</td>\n",
       "      <td>FULL_TIME</td>\n",
       "      <td>Contract AdministratorSummary of PositionThe C...</td>\n",
       "      <td>Broomfield, CO</td>\n",
       "      <td>80020.0</td>\n",
       "      <td>74400.0</td>\n",
       "      <td>90000.0</td>\n",
       "      <td>82200.0</td>\n",
       "      <td>6.0</td>\n",
       "      <td>...</td>\n",
       "      <td>Materials</td>\n",
       "      <td>Broomfield</td>\n",
       "      <td>CO</td>\n",
       "      <td>Colorado</td>\n",
       "      <td>39.550051</td>\n",
       "      <td>-105.782067</td>\n",
       "      <td>529627.0</td>\n",
       "      <td>470606.0</td>\n",
       "      <td>Rocky Mountain</td>\n",
       "      <td>8.368978</td>\n",
       "    </tr>\n",
       "  </tbody>\n",
       "</table>\n",
       "<p>5 rows × 50 columns</p>\n",
       "</div>"
      ],
      "text/plain": [
       "       job_id                                        title  work_type  \\\n",
       "0  1014822088                         Marketing Specialist  FULL_TIME   \n",
       "1  3189117072  Client Service Associate / Practice Manager  FULL_TIME   \n",
       "2  3260455681                        Operations Specialist  FULL_TIME   \n",
       "3  3277232283                HR & Administrative Assistant  FULL_TIME   \n",
       "4  3297645846                       Contract Administrator  FULL_TIME   \n",
       "\n",
       "                                         description           location  \\\n",
       "0  About TrackerTracker is a leading global cloud...      United States   \n",
       "1  Company OverviewSignature Estate and Investmen...  Redondo Beach, CA   \n",
       "2  Weyerhaeuser is searching for a Operations Spe...    Castle Rock, WA   \n",
       "3  HR & Administrative CoordinatorWork is Remote ...      United States   \n",
       "4  Contract AdministratorSummary of PositionThe C...     Broomfield, CO   \n",
       "\n",
       "   zip_code  min_salary  max_salary  normalized_salary  views  ...  \\\n",
       "0       NaN     70000.0     80000.0            75000.0    7.0  ...   \n",
       "1   90277.0     70000.0    100000.0            85000.0    6.0  ...   \n",
       "2   98611.0     72742.0    109113.0            90927.5   18.0  ...   \n",
       "3       NaN     55000.0     72000.0            63500.0   59.0  ...   \n",
       "4   80020.0     74400.0     90000.0            82200.0    6.0  ...   \n",
       "\n",
       "                   sector           city  state        name   latitude  \\\n",
       "0  Information Technology  United States     US      Remote        NaN   \n",
       "1                  Energy  Redondo Beach     CA  California  36.778261   \n",
       "2               Materials    Castle Rock     WA  Washington  47.751074   \n",
       "3                  Energy  United States     US      Remote        NaN   \n",
       "4               Materials     Broomfield     CO    Colorado  39.550051   \n",
       "\n",
       "    longitude        gdp     income           region  moving_score  \n",
       "0         NaN   483162.0   416325.0           Plains     50.000000  \n",
       "1 -119.417932  3870379.0  3166135.0         Far West      4.214518  \n",
       "2 -120.740139   807865.0   632296.0         Far West      4.703287  \n",
       "3         NaN   483162.0   416325.0           Plains     50.000000  \n",
       "4 -105.782067   529627.0   470606.0  Rocky Mountain       8.368978  \n",
       "\n",
       "[5 rows x 50 columns]"
      ]
     },
     "execution_count": 3,
     "metadata": {},
     "output_type": "execute_result"
    }
   ],
   "source": [
    "df= pd.read_csv('/Users/morgan/Desktop/SEIS 763 ML/ML_job_postings_finale_ready_v2.csv',header=0)\n",
    "df.head()"
   ]
  },
  {
   "cell_type": "code",
   "execution_count": 5,
   "id": "b0dd8d21-220a-4a47-b155-66d8b28a7be8",
   "metadata": {},
   "outputs": [
    {
     "data": {
      "text/plain": [
       "(3902, 50)"
      ]
     },
     "execution_count": 5,
     "metadata": {},
     "output_type": "execute_result"
    }
   ],
   "source": [
    "df.shape"
   ]
  },
  {
   "cell_type": "code",
   "execution_count": 98,
   "id": "b08e1911-bceb-49ce-b214-fd40062ce443",
   "metadata": {},
   "outputs": [],
   "source": [
    "reg_df=df[['normalized_salary','day_posting','degree_level','programming_languages_score',\n",
    "       'analysis_statistics_score', 'machine_learning_score',\n",
    "       'data_visualization_score', 'cloud_platform_score', 'database_score',\n",
    "       'big_data_tools_score', 'big_data_score','company_size','follower_count', 'gdp', 'moving_score','job_classification']]"
   ]
  },
  {
   "cell_type": "code",
   "execution_count": 100,
   "id": "0f59697e-f532-4f0e-a57c-7224ce553646",
   "metadata": {},
   "outputs": [
    {
     "data": {
      "text/html": [
       "<div>\n",
       "<style scoped>\n",
       "    .dataframe tbody tr th:only-of-type {\n",
       "        vertical-align: middle;\n",
       "    }\n",
       "\n",
       "    .dataframe tbody tr th {\n",
       "        vertical-align: top;\n",
       "    }\n",
       "\n",
       "    .dataframe thead th {\n",
       "        text-align: right;\n",
       "    }\n",
       "</style>\n",
       "<table border=\"1\" class=\"dataframe\">\n",
       "  <thead>\n",
       "    <tr style=\"text-align: right;\">\n",
       "      <th></th>\n",
       "      <th>normalized_salary</th>\n",
       "      <th>day_posting</th>\n",
       "      <th>programming_languages_score</th>\n",
       "      <th>analysis_statistics_score</th>\n",
       "      <th>machine_learning_score</th>\n",
       "      <th>data_visualization_score</th>\n",
       "      <th>cloud_platform_score</th>\n",
       "      <th>database_score</th>\n",
       "      <th>big_data_tools_score</th>\n",
       "      <th>big_data_score</th>\n",
       "      <th>company_size</th>\n",
       "      <th>follower_count</th>\n",
       "      <th>gdp</th>\n",
       "      <th>moving_score</th>\n",
       "    </tr>\n",
       "  </thead>\n",
       "  <tbody>\n",
       "    <tr>\n",
       "      <th>count</th>\n",
       "      <td>3.902000e+03</td>\n",
       "      <td>3902.000000</td>\n",
       "      <td>3902.000000</td>\n",
       "      <td>3902.000000</td>\n",
       "      <td>3902.000000</td>\n",
       "      <td>3902.000000</td>\n",
       "      <td>3902.000000</td>\n",
       "      <td>3902.000000</td>\n",
       "      <td>3902.0</td>\n",
       "      <td>3902.000000</td>\n",
       "      <td>3803.000000</td>\n",
       "      <td>3.902000e+03</td>\n",
       "      <td>3.902000e+03</td>\n",
       "      <td>3902.000000</td>\n",
       "    </tr>\n",
       "    <tr>\n",
       "      <th>mean</th>\n",
       "      <td>1.464125e+05</td>\n",
       "      <td>38.613532</td>\n",
       "      <td>1.407996</td>\n",
       "      <td>1.158124</td>\n",
       "      <td>1.074065</td>\n",
       "      <td>1.165812</td>\n",
       "      <td>0.405177</td>\n",
       "      <td>0.501794</td>\n",
       "      <td>0.0</td>\n",
       "      <td>0.070477</td>\n",
       "      <td>5.251906</td>\n",
       "      <td>1.812468e+06</td>\n",
       "      <td>1.485876e+06</td>\n",
       "      <td>16.057535</td>\n",
       "    </tr>\n",
       "    <tr>\n",
       "      <th>std</th>\n",
       "      <td>1.640213e+06</td>\n",
       "      <td>33.183036</td>\n",
       "      <td>0.901801</td>\n",
       "      <td>1.076114</td>\n",
       "      <td>0.465579</td>\n",
       "      <td>0.545711</td>\n",
       "      <td>0.629615</td>\n",
       "      <td>0.897958</td>\n",
       "      <td>0.0</td>\n",
       "      <td>0.393363</td>\n",
       "      <td>1.990553</td>\n",
       "      <td>5.685063e+06</td>\n",
       "      <td>1.306463e+06</td>\n",
       "      <td>17.803008</td>\n",
       "    </tr>\n",
       "    <tr>\n",
       "      <th>min</th>\n",
       "      <td>2.000050e+04</td>\n",
       "      <td>13.000000</td>\n",
       "      <td>1.000000</td>\n",
       "      <td>0.000000</td>\n",
       "      <td>0.000000</td>\n",
       "      <td>0.000000</td>\n",
       "      <td>0.000000</td>\n",
       "      <td>0.000000</td>\n",
       "      <td>0.0</td>\n",
       "      <td>0.000000</td>\n",
       "      <td>1.000000</td>\n",
       "      <td>1.000000e+00</td>\n",
       "      <td>4.353400e+04</td>\n",
       "      <td>1.583467</td>\n",
       "    </tr>\n",
       "    <tr>\n",
       "      <th>25%</th>\n",
       "      <td>8.005006e+04</td>\n",
       "      <td>30.000000</td>\n",
       "      <td>1.000000</td>\n",
       "      <td>1.000000</td>\n",
       "      <td>1.000000</td>\n",
       "      <td>1.000000</td>\n",
       "      <td>0.000000</td>\n",
       "      <td>0.000000</td>\n",
       "      <td>0.0</td>\n",
       "      <td>0.000000</td>\n",
       "      <td>4.000000</td>\n",
       "      <td>1.753675e+04</td>\n",
       "      <td>4.831620e+05</td>\n",
       "      <td>4.703287</td>\n",
       "    </tr>\n",
       "    <tr>\n",
       "      <th>50%</th>\n",
       "      <td>1.108235e+05</td>\n",
       "      <td>30.000000</td>\n",
       "      <td>1.000000</td>\n",
       "      <td>1.000000</td>\n",
       "      <td>1.000000</td>\n",
       "      <td>1.000000</td>\n",
       "      <td>0.000000</td>\n",
       "      <td>0.000000</td>\n",
       "      <td>0.0</td>\n",
       "      <td>0.000000</td>\n",
       "      <td>6.000000</td>\n",
       "      <td>1.258030e+05</td>\n",
       "      <td>8.066650e+05</td>\n",
       "      <td>6.523601</td>\n",
       "    </tr>\n",
       "    <tr>\n",
       "      <th>75%</th>\n",
       "      <td>1.460000e+05</td>\n",
       "      <td>30.000000</td>\n",
       "      <td>1.000000</td>\n",
       "      <td>1.000000</td>\n",
       "      <td>1.000000</td>\n",
       "      <td>1.000000</td>\n",
       "      <td>1.000000</td>\n",
       "      <td>1.000000</td>\n",
       "      <td>0.0</td>\n",
       "      <td>0.000000</td>\n",
       "      <td>7.000000</td>\n",
       "      <td>5.693270e+05</td>\n",
       "      <td>2.172010e+06</td>\n",
       "      <td>17.304814</td>\n",
       "    </tr>\n",
       "    <tr>\n",
       "      <th>max</th>\n",
       "      <td>1.025000e+08</td>\n",
       "      <td>191.000000</td>\n",
       "      <td>7.000000</td>\n",
       "      <td>9.000000</td>\n",
       "      <td>8.000000</td>\n",
       "      <td>5.000000</td>\n",
       "      <td>4.000000</td>\n",
       "      <td>6.000000</td>\n",
       "      <td>0.0</td>\n",
       "      <td>5.000000</td>\n",
       "      <td>7.000000</td>\n",
       "      <td>3.270284e+07</td>\n",
       "      <td>3.870379e+06</td>\n",
       "      <td>50.000000</td>\n",
       "    </tr>\n",
       "  </tbody>\n",
       "</table>\n",
       "</div>"
      ],
      "text/plain": [
       "       normalized_salary  day_posting  programming_languages_score  \\\n",
       "count       3.902000e+03  3902.000000                  3902.000000   \n",
       "mean        1.464125e+05    38.613532                     1.407996   \n",
       "std         1.640213e+06    33.183036                     0.901801   \n",
       "min         2.000050e+04    13.000000                     1.000000   \n",
       "25%         8.005006e+04    30.000000                     1.000000   \n",
       "50%         1.108235e+05    30.000000                     1.000000   \n",
       "75%         1.460000e+05    30.000000                     1.000000   \n",
       "max         1.025000e+08   191.000000                     7.000000   \n",
       "\n",
       "       analysis_statistics_score  machine_learning_score  \\\n",
       "count                3902.000000             3902.000000   \n",
       "mean                    1.158124                1.074065   \n",
       "std                     1.076114                0.465579   \n",
       "min                     0.000000                0.000000   \n",
       "25%                     1.000000                1.000000   \n",
       "50%                     1.000000                1.000000   \n",
       "75%                     1.000000                1.000000   \n",
       "max                     9.000000                8.000000   \n",
       "\n",
       "       data_visualization_score  cloud_platform_score  database_score  \\\n",
       "count               3902.000000           3902.000000     3902.000000   \n",
       "mean                   1.165812              0.405177        0.501794   \n",
       "std                    0.545711              0.629615        0.897958   \n",
       "min                    0.000000              0.000000        0.000000   \n",
       "25%                    1.000000              0.000000        0.000000   \n",
       "50%                    1.000000              0.000000        0.000000   \n",
       "75%                    1.000000              1.000000        1.000000   \n",
       "max                    5.000000              4.000000        6.000000   \n",
       "\n",
       "       big_data_tools_score  big_data_score  company_size  follower_count  \\\n",
       "count                3902.0     3902.000000   3803.000000    3.902000e+03   \n",
       "mean                    0.0        0.070477      5.251906    1.812468e+06   \n",
       "std                     0.0        0.393363      1.990553    5.685063e+06   \n",
       "min                     0.0        0.000000      1.000000    1.000000e+00   \n",
       "25%                     0.0        0.000000      4.000000    1.753675e+04   \n",
       "50%                     0.0        0.000000      6.000000    1.258030e+05   \n",
       "75%                     0.0        0.000000      7.000000    5.693270e+05   \n",
       "max                     0.0        5.000000      7.000000    3.270284e+07   \n",
       "\n",
       "                gdp  moving_score  \n",
       "count  3.902000e+03   3902.000000  \n",
       "mean   1.485876e+06     16.057535  \n",
       "std    1.306463e+06     17.803008  \n",
       "min    4.353400e+04      1.583467  \n",
       "25%    4.831620e+05      4.703287  \n",
       "50%    8.066650e+05      6.523601  \n",
       "75%    2.172010e+06     17.304814  \n",
       "max    3.870379e+06     50.000000  "
      ]
     },
     "execution_count": 100,
     "metadata": {},
     "output_type": "execute_result"
    }
   ],
   "source": [
    "reg_df.describe()"
   ]
  },
  {
   "cell_type": "code",
   "execution_count": 102,
   "id": "0dae4c18-e7cf-4175-a714-aa663b3aac54",
   "metadata": {},
   "outputs": [],
   "source": [
    "import numpy as np\n",
    "from sklearn.linear_model import LinearRegression\n",
    "from sklearn import preprocessing\n",
    "from sklearn.model_selection import train_test_split\n",
    "from sklearn.metrics import r2_score, mean_absolute_error, mean_squared_error\n",
    "from sklearn.linear_model import Lasso,lasso_path"
   ]
  },
  {
   "cell_type": "code",
   "execution_count": 104,
   "id": "d49f06dd-7060-41f2-82e9-c4dd32573b2c",
   "metadata": {},
   "outputs": [],
   "source": [
    "from sklearn.linear_model import LassoCV\n",
    "from sklearn.model_selection import cross_val_score, KFold"
   ]
  },
  {
   "cell_type": "code",
   "execution_count": 106,
   "id": "a98b1e12-4363-4a0a-a2b0-49ea5e87c4c9",
   "metadata": {},
   "outputs": [],
   "source": [
    "# objective: predict normalized_salary using numerical variables and 1 dummy"
   ]
  },
  {
   "cell_type": "code",
   "execution_count": 133,
   "id": "b21f66de-5de2-448f-b99d-a34a0d94f878",
   "metadata": {},
   "outputs": [
    {
     "data": {
      "text/plain": [
       "array([ 30, 179, 180, 190,  29,  31,  55, 188, 181,  54,  34,  32,  46,\n",
       "        39,  33,  35, 191,  41,  36,  37,  44,  40,  45,  59,  42,  60,\n",
       "        13,  51,  38,  48,  47,  53])"
      ]
     },
     "execution_count": 133,
     "metadata": {},
     "output_type": "execute_result"
    }
   ],
   "source": [
    "df['day_posting'].unique()"
   ]
  },
  {
   "cell_type": "code",
   "execution_count": 109,
   "id": "858dcb6c-1abb-4e5a-a125-c258e7b20e1e",
   "metadata": {},
   "outputs": [
    {
     "data": {
      "text/plain": [
       "array(['Engineering', 'Other', 'Business'], dtype=object)"
      ]
     },
     "execution_count": 109,
     "metadata": {},
     "output_type": "execute_result"
    }
   ],
   "source": [
    "df['job_classification'].unique()"
   ]
  },
  {
   "cell_type": "code",
   "execution_count": 111,
   "id": "2cab247c-77f3-416d-9b99-b9bbdb752141",
   "metadata": {},
   "outputs": [],
   "source": [
    "#define IVs and DV\n",
    "\n",
    "X=reg_df.drop('normalized_salary',axis=1)\n",
    "y=reg_df['normalized_salary']"
   ]
  },
  {
   "cell_type": "code",
   "execution_count": 113,
   "id": "68f00661-98ba-4c89-9dd5-4b29e2886211",
   "metadata": {},
   "outputs": [
    {
     "data": {
      "text/html": [
       "<div>\n",
       "<style scoped>\n",
       "    .dataframe tbody tr th:only-of-type {\n",
       "        vertical-align: middle;\n",
       "    }\n",
       "\n",
       "    .dataframe tbody tr th {\n",
       "        vertical-align: top;\n",
       "    }\n",
       "\n",
       "    .dataframe thead th {\n",
       "        text-align: right;\n",
       "    }\n",
       "</style>\n",
       "<table border=\"1\" class=\"dataframe\">\n",
       "  <thead>\n",
       "    <tr style=\"text-align: right;\">\n",
       "      <th></th>\n",
       "      <th>day_posting</th>\n",
       "      <th>programming_languages_score</th>\n",
       "      <th>analysis_statistics_score</th>\n",
       "      <th>machine_learning_score</th>\n",
       "      <th>data_visualization_score</th>\n",
       "      <th>cloud_platform_score</th>\n",
       "      <th>database_score</th>\n",
       "      <th>big_data_tools_score</th>\n",
       "      <th>big_data_score</th>\n",
       "      <th>company_size</th>\n",
       "      <th>follower_count</th>\n",
       "      <th>gdp</th>\n",
       "      <th>moving_score</th>\n",
       "      <th>degree_level_bachelor, postgraduate</th>\n",
       "      <th>degree_level_postgraduate</th>\n",
       "      <th>job_classification_Engineering</th>\n",
       "      <th>job_classification_Other</th>\n",
       "    </tr>\n",
       "  </thead>\n",
       "  <tbody>\n",
       "    <tr>\n",
       "      <th>0</th>\n",
       "      <td>30</td>\n",
       "      <td>1</td>\n",
       "      <td>0</td>\n",
       "      <td>1</td>\n",
       "      <td>1</td>\n",
       "      <td>1</td>\n",
       "      <td>0</td>\n",
       "      <td>0</td>\n",
       "      <td>0</td>\n",
       "      <td>2.0</td>\n",
       "      <td>5046</td>\n",
       "      <td>483162.0</td>\n",
       "      <td>50.000000</td>\n",
       "      <td>False</td>\n",
       "      <td>False</td>\n",
       "      <td>True</td>\n",
       "      <td>False</td>\n",
       "    </tr>\n",
       "    <tr>\n",
       "      <th>1</th>\n",
       "      <td>30</td>\n",
       "      <td>1</td>\n",
       "      <td>0</td>\n",
       "      <td>1</td>\n",
       "      <td>1</td>\n",
       "      <td>1</td>\n",
       "      <td>1</td>\n",
       "      <td>0</td>\n",
       "      <td>0</td>\n",
       "      <td>2.0</td>\n",
       "      <td>4650</td>\n",
       "      <td>3870379.0</td>\n",
       "      <td>4.214518</td>\n",
       "      <td>False</td>\n",
       "      <td>False</td>\n",
       "      <td>True</td>\n",
       "      <td>False</td>\n",
       "    </tr>\n",
       "    <tr>\n",
       "      <th>2</th>\n",
       "      <td>179</td>\n",
       "      <td>1</td>\n",
       "      <td>1</td>\n",
       "      <td>1</td>\n",
       "      <td>1</td>\n",
       "      <td>1</td>\n",
       "      <td>0</td>\n",
       "      <td>0</td>\n",
       "      <td>0</td>\n",
       "      <td>7.0</td>\n",
       "      <td>92381</td>\n",
       "      <td>807865.0</td>\n",
       "      <td>4.703287</td>\n",
       "      <td>False</td>\n",
       "      <td>False</td>\n",
       "      <td>True</td>\n",
       "      <td>False</td>\n",
       "    </tr>\n",
       "    <tr>\n",
       "      <th>3</th>\n",
       "      <td>30</td>\n",
       "      <td>1</td>\n",
       "      <td>1</td>\n",
       "      <td>1</td>\n",
       "      <td>1</td>\n",
       "      <td>1</td>\n",
       "      <td>1</td>\n",
       "      <td>0</td>\n",
       "      <td>0</td>\n",
       "      <td>NaN</td>\n",
       "      <td>1058</td>\n",
       "      <td>483162.0</td>\n",
       "      <td>50.000000</td>\n",
       "      <td>False</td>\n",
       "      <td>False</td>\n",
       "      <td>False</td>\n",
       "      <td>True</td>\n",
       "    </tr>\n",
       "    <tr>\n",
       "      <th>4</th>\n",
       "      <td>179</td>\n",
       "      <td>1</td>\n",
       "      <td>1</td>\n",
       "      <td>1</td>\n",
       "      <td>2</td>\n",
       "      <td>0</td>\n",
       "      <td>0</td>\n",
       "      <td>0</td>\n",
       "      <td>0</td>\n",
       "      <td>5.0</td>\n",
       "      <td>554</td>\n",
       "      <td>529627.0</td>\n",
       "      <td>8.368978</td>\n",
       "      <td>False</td>\n",
       "      <td>False</td>\n",
       "      <td>True</td>\n",
       "      <td>False</td>\n",
       "    </tr>\n",
       "  </tbody>\n",
       "</table>\n",
       "</div>"
      ],
      "text/plain": [
       "   day_posting  programming_languages_score  analysis_statistics_score  \\\n",
       "0           30                            1                          0   \n",
       "1           30                            1                          0   \n",
       "2          179                            1                          1   \n",
       "3           30                            1                          1   \n",
       "4          179                            1                          1   \n",
       "\n",
       "   machine_learning_score  data_visualization_score  cloud_platform_score  \\\n",
       "0                       1                         1                     1   \n",
       "1                       1                         1                     1   \n",
       "2                       1                         1                     1   \n",
       "3                       1                         1                     1   \n",
       "4                       1                         2                     0   \n",
       "\n",
       "   database_score  big_data_tools_score  big_data_score  company_size  \\\n",
       "0               0                     0               0           2.0   \n",
       "1               1                     0               0           2.0   \n",
       "2               0                     0               0           7.0   \n",
       "3               1                     0               0           NaN   \n",
       "4               0                     0               0           5.0   \n",
       "\n",
       "   follower_count        gdp  moving_score  \\\n",
       "0            5046   483162.0     50.000000   \n",
       "1            4650  3870379.0      4.214518   \n",
       "2           92381   807865.0      4.703287   \n",
       "3            1058   483162.0     50.000000   \n",
       "4             554   529627.0      8.368978   \n",
       "\n",
       "   degree_level_bachelor, postgraduate  degree_level_postgraduate  \\\n",
       "0                                False                      False   \n",
       "1                                False                      False   \n",
       "2                                False                      False   \n",
       "3                                False                      False   \n",
       "4                                False                      False   \n",
       "\n",
       "   job_classification_Engineering  job_classification_Other  \n",
       "0                            True                     False  \n",
       "1                            True                     False  \n",
       "2                            True                     False  \n",
       "3                           False                      True  \n",
       "4                            True                     False  "
      ]
     },
     "execution_count": 113,
     "metadata": {},
     "output_type": "execute_result"
    }
   ],
   "source": [
    "# convert categorical varibles into dummy varibles\n",
    "X = pd.get_dummies(X, drop_first=True)\n",
    "X.head()"
   ]
  },
  {
   "cell_type": "code",
   "execution_count": 115,
   "id": "b90f305c-568c-46c1-80f7-e588b69f453c",
   "metadata": {},
   "outputs": [],
   "source": [
    "#X.isnull().sum()"
   ]
  },
  {
   "cell_type": "code",
   "execution_count": 117,
   "id": "8ba87de7-2cd9-4742-9f8f-9a8642c08d9e",
   "metadata": {},
   "outputs": [],
   "source": [
    "# Calculate the mean of the column\n",
    "column_mean = X['company_size'].mean()\n",
    "\n",
    "# Fill missing values with the mean\n",
    "X['company_size'].fillna(column_mean, inplace=True)"
   ]
  },
  {
   "cell_type": "code",
   "execution_count": 119,
   "id": "d389f312-4bd0-4d16-bd08-78a14d600724",
   "metadata": {},
   "outputs": [],
   "source": [
    "# standardization\n",
    "x_scaled=preprocessing.scale(X)"
   ]
  },
  {
   "cell_type": "code",
   "execution_count": 121,
   "id": "02d8da7c-be30-4cc7-8db5-143e8b0e4fa6",
   "metadata": {},
   "outputs": [],
   "source": [
    "# Train-test split\n",
    "#80% for training, 20% for testing\n",
    "\n",
    "X_train, X_test, y_train, y_test = train_test_split(x_scaled, y, test_size=0.2, random_state=42)"
   ]
  },
  {
   "cell_type": "code",
   "execution_count": 123,
   "id": "efd9f403-57f4-422c-ba0b-99027f4db2ff",
   "metadata": {},
   "outputs": [
    {
     "data": {
      "text/html": [
       "<style>#sk-container-id-2 {color: black;background-color: white;}#sk-container-id-2 pre{padding: 0;}#sk-container-id-2 div.sk-toggleable {background-color: white;}#sk-container-id-2 label.sk-toggleable__label {cursor: pointer;display: block;width: 100%;margin-bottom: 0;padding: 0.3em;box-sizing: border-box;text-align: center;}#sk-container-id-2 label.sk-toggleable__label-arrow:before {content: \"▸\";float: left;margin-right: 0.25em;color: #696969;}#sk-container-id-2 label.sk-toggleable__label-arrow:hover:before {color: black;}#sk-container-id-2 div.sk-estimator:hover label.sk-toggleable__label-arrow:before {color: black;}#sk-container-id-2 div.sk-toggleable__content {max-height: 0;max-width: 0;overflow: hidden;text-align: left;background-color: #f0f8ff;}#sk-container-id-2 div.sk-toggleable__content pre {margin: 0.2em;color: black;border-radius: 0.25em;background-color: #f0f8ff;}#sk-container-id-2 input.sk-toggleable__control:checked~div.sk-toggleable__content {max-height: 200px;max-width: 100%;overflow: auto;}#sk-container-id-2 input.sk-toggleable__control:checked~label.sk-toggleable__label-arrow:before {content: \"▾\";}#sk-container-id-2 div.sk-estimator input.sk-toggleable__control:checked~label.sk-toggleable__label {background-color: #d4ebff;}#sk-container-id-2 div.sk-label input.sk-toggleable__control:checked~label.sk-toggleable__label {background-color: #d4ebff;}#sk-container-id-2 input.sk-hidden--visually {border: 0;clip: rect(1px 1px 1px 1px);clip: rect(1px, 1px, 1px, 1px);height: 1px;margin: -1px;overflow: hidden;padding: 0;position: absolute;width: 1px;}#sk-container-id-2 div.sk-estimator {font-family: monospace;background-color: #f0f8ff;border: 1px dotted black;border-radius: 0.25em;box-sizing: border-box;margin-bottom: 0.5em;}#sk-container-id-2 div.sk-estimator:hover {background-color: #d4ebff;}#sk-container-id-2 div.sk-parallel-item::after {content: \"\";width: 100%;border-bottom: 1px solid gray;flex-grow: 1;}#sk-container-id-2 div.sk-label:hover label.sk-toggleable__label {background-color: #d4ebff;}#sk-container-id-2 div.sk-serial::before {content: \"\";position: absolute;border-left: 1px solid gray;box-sizing: border-box;top: 0;bottom: 0;left: 50%;z-index: 0;}#sk-container-id-2 div.sk-serial {display: flex;flex-direction: column;align-items: center;background-color: white;padding-right: 0.2em;padding-left: 0.2em;position: relative;}#sk-container-id-2 div.sk-item {position: relative;z-index: 1;}#sk-container-id-2 div.sk-parallel {display: flex;align-items: stretch;justify-content: center;background-color: white;position: relative;}#sk-container-id-2 div.sk-item::before, #sk-container-id-2 div.sk-parallel-item::before {content: \"\";position: absolute;border-left: 1px solid gray;box-sizing: border-box;top: 0;bottom: 0;left: 50%;z-index: -1;}#sk-container-id-2 div.sk-parallel-item {display: flex;flex-direction: column;z-index: 1;position: relative;background-color: white;}#sk-container-id-2 div.sk-parallel-item:first-child::after {align-self: flex-end;width: 50%;}#sk-container-id-2 div.sk-parallel-item:last-child::after {align-self: flex-start;width: 50%;}#sk-container-id-2 div.sk-parallel-item:only-child::after {width: 0;}#sk-container-id-2 div.sk-dashed-wrapped {border: 1px dashed gray;margin: 0 0.4em 0.5em 0.4em;box-sizing: border-box;padding-bottom: 0.4em;background-color: white;}#sk-container-id-2 div.sk-label label {font-family: monospace;font-weight: bold;display: inline-block;line-height: 1.2em;}#sk-container-id-2 div.sk-label-container {text-align: center;}#sk-container-id-2 div.sk-container {/* jupyter's `normalize.less` sets `[hidden] { display: none; }` but bootstrap.min.css set `[hidden] { display: none !important; }` so we also need the `!important` here to be able to override the default hidden behavior on the sphinx rendered scikit-learn.org. See: https://github.com/scikit-learn/scikit-learn/issues/21755 */display: inline-block !important;position: relative;}#sk-container-id-2 div.sk-text-repr-fallback {display: none;}</style><div id=\"sk-container-id-2\" class=\"sk-top-container\"><div class=\"sk-text-repr-fallback\"><pre>Lasso(alpha=0.1)</pre><b>In a Jupyter environment, please rerun this cell to show the HTML representation or trust the notebook. <br />On GitHub, the HTML representation is unable to render, please try loading this page with nbviewer.org.</b></div><div class=\"sk-container\" hidden><div class=\"sk-item\"><div class=\"sk-estimator sk-toggleable\"><input class=\"sk-toggleable__control sk-hidden--visually\" id=\"sk-estimator-id-2\" type=\"checkbox\" checked><label for=\"sk-estimator-id-2\" class=\"sk-toggleable__label sk-toggleable__label-arrow\">Lasso</label><div class=\"sk-toggleable__content\"><pre>Lasso(alpha=0.1)</pre></div></div></div></div></div>"
      ],
      "text/plain": [
       "Lasso(alpha=0.1)"
      ]
     },
     "execution_count": 123,
     "metadata": {},
     "output_type": "execute_result"
    }
   ],
   "source": [
    "# Create the Lasso model with an alpha value (regularization strength)\n",
    "lasso_model = Lasso(alpha=0.1)  # You can adjust alpha\n",
    "\n",
    "# Train the model on the training data\n",
    "lasso_model.fit(X_train, y_train)"
   ]
  },
  {
   "cell_type": "code",
   "execution_count": 125,
   "id": "709c2e92-e999-465f-8092-3b0b53cdb97f",
   "metadata": {},
   "outputs": [],
   "source": [
    "import statsmodels.formula.api as sm\n",
    "import matplotlib.pyplot as plt"
   ]
  },
  {
   "cell_type": "code",
   "execution_count": 127,
   "id": "35836b4c-addd-4d71-af5a-782639cbe948",
   "metadata": {},
   "outputs": [],
   "source": [
    "# Make predictions on the testing data\n",
    "y_pred = lasso_model.predict(X_test)"
   ]
  },
  {
   "cell_type": "code",
   "execution_count": 131,
   "id": "9dda80dc-1206-4380-be65-a111ccde23a7",
   "metadata": {},
   "outputs": [
    {
     "data": {
      "image/png": "[encoded data removed]",
      "text/plain": [
       "<Figure size 1000x600 with 1 Axes>"
      ]
     },
     "metadata": {},
     "output_type": "display_data"
    }
   ],
   "source": [
    "# Get the Lasso coefficients\n",
    "coefficients = lasso_model.coef_\n",
    "\n",
    "# Create a DataFrame for visualization\n",
    "coef_df = pd.DataFrame({'Feature': X.columns, 'Coefficient': coefficients})\n",
    "\n",
    "# Sort coefficients by magnitude for better visualization\n",
    "top_10_coef = coef_df.reindex(coef_df['Coefficient'].abs().sort_values(ascending=False).index)[:10]\n",
    "\n",
    "# Plot the coefficients\n",
    "plt.figure(figsize=(10, 6))\n",
    "plt.barh(top_10_coef['Feature'], top_10_coef['Coefficient'])\n",
    "plt.xlabel('Coefficient Value')\n",
    "plt.ylabel('Feature')\n",
    "plt.title('Top 10 Lasso Model Coefficients')\n",
    "plt.show()"
   ]
  },
  {
   "cell_type": "code",
   "execution_count": null,
   "id": "ece0a05f-46a5-4016-9141-e2b030d7b552",
   "metadata": {},
   "outputs": [],
   "source": []
  },
  {
   "cell_type": "code",
   "execution_count": 131,
   "id": "fe6ce901-0d2a-46cb-8aac-59bd60b79e16",
   "metadata": {},
   "outputs": [
    {
     "name": "stdout",
     "output_type": "stream",
     "text": [
      "Baseline Model Performance:\n",
      "R²: -0.001\n",
      "Mean Absolute Error (MAE): 108528.29\n",
      "Mean Squared Error (MSE): 7170301322708.12\n"
     ]
    }
   ],
   "source": [
    "# Step 4: Fit a baseline Linear Regression model\n",
    "lr = LinearRegression()\n",
    "lr.fit(X_train, y_train)\n",
    "\n",
    "# Step 5: Predict on the test set\n",
    "y_pred = lr.predict(X_test)\n",
    "\n",
    "# Step 6: Evaluate the baseline model\n",
    "r2 = r2_score(y_test, y_pred)\n",
    "mae = mean_absolute_error(y_test, y_pred)\n",
    "mse = mean_squared_error(y_test, y_pred)\n",
    "\n",
    "print(f\"Baseline Model Performance:\")\n",
    "print(f\"R²: {r2:.3f}\")\n",
    "print(f\"Mean Absolute Error (MAE): {mae:.2f}\")\n",
    "print(f\"Mean Squared Error (MSE): {mse:.2f}\")"
   ]
  },
  {
   "cell_type": "code",
   "execution_count": 133,
   "id": "0b556842-ab6b-4970-bd92-dc2604ca60a1",
   "metadata": {},
   "outputs": [
    {
     "data": {
      "text/plain": [
       "array([-1.40997049e+03,  6.88980246e+03, -1.44004564e+03,  2.88864231e+03,\n",
       "       -5.95882127e+02,  3.21582197e+03,  2.78935767e+02,  4.54747351e-12,\n",
       "        1.84647410e+03,  5.36009198e+03,  8.20213954e+03, -3.35682552e+02,\n",
       "        5.36276610e+03,  2.94600140e+03,  9.49540024e+01, -2.20209495e+02])"
      ]
     },
     "execution_count": 133,
     "metadata": {},
     "output_type": "execute_result"
    }
   ],
   "source": [
    "coefs=lr.coef_\n",
    "coefs"
   ]
  },
  {
   "cell_type": "code",
   "execution_count": 135,
   "id": "02b3689a-a1f4-4825-b2c9-e6bbc7e96012",
   "metadata": {},
   "outputs": [
    {
     "name": "stdout",
     "output_type": "stream",
     "text": [
      "Top Features by Coefficient:\n",
      "                                Feature  Coefficient\n",
      "10                       follower_count  8202.139541\n",
      "1           programming_languages_score  6889.802460\n",
      "12                               income  5362.766104\n",
      "9                          company_size  5360.091980\n",
      "5                  cloud_platform_score  3215.821974\n",
      "13                         moving_score  2946.001400\n",
      "3                machine_learning_score  2888.642313\n",
      "8                        big_data_score  1846.474103\n",
      "6                        database_score   278.935767\n",
      "14  degree_level_bachelor, postgraduate    94.954002\n"
     ]
    }
   ],
   "source": [
    "feature_names = X.columns\n",
    "\n",
    "\n",
    "# Pair feature names with their coefficients\n",
    "feature_importance = pd.DataFrame({\n",
    "    'Feature': feature_names,\n",
    "    'Coefficient': coefs\n",
    "}).sort_values(by='Coefficient', ascending=False)\n",
    "\n",
    "print(\"Top Features by Coefficient:\")\n",
    "print(feature_importance.head(10))"
   ]
  },
  {
   "cell_type": "code",
   "execution_count": 137,
   "id": "c6085879-3e69-488b-a93b-a7303b6c5c2e",
   "metadata": {},
   "outputs": [
    {
     "name": "stdout",
     "output_type": "stream",
     "text": [
      "Best alpha selected by LassoCV: 10.0000\n",
      "Lasso Model Performance (alpha=10.0000):\n",
      "R²: -0.001\n",
      "Mean Absolute Error (MAE): 108529.43\n",
      "Mean Squared Error (MSE): 7170294842937.92\n",
      "Selected Features by Lasso:\n",
      "                                Feature  Coefficient\n",
      "10                       follower_count  8195.158526\n",
      "1           programming_languages_score  6884.513300\n",
      "9                          company_size  5351.773666\n",
      "12                               income  5009.527495\n",
      "5                  cloud_platform_score  3209.631935\n",
      "13                         moving_score  2926.395910\n",
      "3                machine_learning_score  2881.885625\n",
      "8                        big_data_score  1841.122705\n",
      "6                        database_score   272.447847\n",
      "14  degree_level_bachelor, postgraduate    87.299275\n",
      "15            degree_level_postgraduate  -208.944424\n",
      "4              data_visualization_score  -585.714953\n",
      "0                           day_posting -1402.044495\n",
      "2             analysis_statistics_score -1432.284948\n"
     ]
    }
   ],
   "source": [
    "# Step 2.1: Lasso with Cross-Validation\n",
    "# Define a range of alpha values for regularization strength\n",
    "lasso_cv = LassoCV(alphas=np.logspace(-4, 1, 50), cv=5, random_state=42)\n",
    "lasso_cv.fit(X_train, y_train)\n",
    "\n",
    "# Best alpha from cross-validation\n",
    "best_alpha = lasso_cv.alpha_\n",
    "print(f\"Best alpha selected by LassoCV: {best_alpha:.4f}\")\n",
    "\n",
    "# Step 2.2: Evaluate Lasso on Test Set\n",
    "y_pred_lasso = lasso_cv.predict(X_test)\n",
    "r2_lasso = r2_score(y_test, y_pred_lasso)\n",
    "mae_lasso = mean_absolute_error(y_test, y_pred_lasso)\n",
    "mse_lasso = mean_squared_error(y_test, y_pred_lasso)\n",
    "\n",
    "print(f\"Lasso Model Performance (alpha={best_alpha:.4f}):\")\n",
    "print(f\"R²: {r2_lasso:.3f}\")\n",
    "print(f\"Mean Absolute Error (MAE): {mae_lasso:.2f}\")\n",
    "print(f\"Mean Squared Error (MSE): {mse_lasso:.2f}\")\n",
    "\n",
    "# Step 2.3: Feature Selection using Lasso\n",
    "lasso_coefficients = lasso_cv.coef_\n",
    "important_features = pd.DataFrame({\n",
    "    'Feature': feature_names,\n",
    "    'Coefficient': lasso_coefficients\n",
    "}).query('Coefficient != 0').sort_values(by='Coefficient', ascending=False)\n",
    "\n",
    "print(\"Selected Features by Lasso:\")\n",
    "print(important_features)"
   ]
  },
  {
   "cell_type": "code",
   "execution_count": 147,
   "id": "af86b042-f88e-4a1c-9263-8d41ccfa0134",
   "metadata": {},
   "outputs": [
    {
     "name": "stderr",
     "output_type": "stream",
     "text": [
      "/opt/anaconda3/lib/python3.11/site-packages/sklearn/linear_model/_coordinate_descent.py:631: ConvergenceWarning: Objective did not converge. You might want to increase the number of iterations, check the scale of the features or consider increasing regularisation. Duality gap: 1.678e+14, tolerance: 1.051e+12\n",
      "  model = cd_fast.enet_coordinate_descent(\n",
      "/opt/anaconda3/lib/python3.11/site-packages/sklearn/linear_model/_coordinate_descent.py:631: ConvergenceWarning: Objective did not converge. You might want to increase the number of iterations, check the scale of the features or consider increasing regularisation. Duality gap: 1.630e+14, tolerance: 1.051e+12\n",
      "  model = cd_fast.enet_coordinate_descent(\n"
     ]
    },
    {
     "name": "stdout",
     "output_type": "stream",
     "text": [
      "K-Fold Cross-Validation Results (R²):\n",
      "Mean R²: -1.278, Std: 0.716\n"
     ]
    },
    {
     "name": "stderr",
     "output_type": "stream",
     "text": [
      "/opt/anaconda3/lib/python3.11/site-packages/sklearn/linear_model/_coordinate_descent.py:631: ConvergenceWarning: Objective did not converge. You might want to increase the number of iterations, check the scale of the features or consider increasing regularisation. Duality gap: 6.616e+13, tolerance: 1.050e+12\n",
      "  model = cd_fast.enet_coordinate_descent(\n",
      "/opt/anaconda3/lib/python3.11/site-packages/sklearn/linear_model/_coordinate_descent.py:631: ConvergenceWarning: Objective did not converge. You might want to increase the number of iterations, check the scale of the features or consider increasing regularisation. Duality gap: 2.137e+14, tolerance: 1.050e+12\n",
      "  model = cd_fast.enet_coordinate_descent(\n"
     ]
    }
   ],
   "source": [
    "# Step 3: K-Fold Cross-Validation\n",
    "kf = KFold(n_splits=5, shuffle=True, random_state=42)\n",
    "\n",
    "# Perform cross-validation with the best alpha\n",
    "lasso_cv_scores = cross_val_score(Lasso(alpha=best_alpha), x_scaled, y, cv=kf, scoring='r2')\n",
    "\n",
    "print(\"K-Fold Cross-Validation Results (R²):\")\n",
    "print(f\"Mean R²: {np.mean(lasso_cv_scores):.3f}, Std: {np.std(lasso_cv_scores):.3f}\")"
   ]
  },
  {
   "cell_type": "code",
   "execution_count": 157,
   "id": "a6068cbd-e80a-42db-8eee-0c921797319a",
   "metadata": {},
   "outputs": [
    {
     "data": {
      "text/plain": [
       "Index(['job_id', 'title', 'work_type', 'description', 'min_salary',\n",
       "       'max_salary', 'normalized_salary', 'views', 'original_listed_time',\n",
       "       'expiry', 'day_posting', 'location', 'zip_code', 'is_data_related',\n",
       "       'formatted_experience_level', 'degree_level', 'job_classification',\n",
       "       'soft_skills', 'programming_languages_score',\n",
       "       'analysis_statistics_score', 'machine_learning_score',\n",
       "       'data_visualization_score', 'cloud_platform_score', 'database_score',\n",
       "       'big_data_tools_score', 'big_data_score', 'business_engineering_score',\n",
       "       'company_id', 'company_name', 'company desc', 'company_size', 'country',\n",
       "       'headquarter state', 'headquarter city', 'headquarter addr',\n",
       "       'headquarter zipcode', 'industry', 'speciality', 'employee_count',\n",
       "       'follower_count', 'sector', 'city', 'state', 'name', 'latitude',\n",
       "       'longitude', 'gdp', 'income', 'region', 'moving_score'],\n",
       "      dtype='object')"
      ]
     },
     "execution_count": 157,
     "metadata": {},
     "output_type": "execute_result"
    }
   ],
   "source": [
    "df.columns"
   ]
  },
  {
   "cell_type": "code",
   "execution_count": 175,
   "id": "4338ea85-7193-4c71-8a53-afa87c44f3a2",
   "metadata": {},
   "outputs": [],
   "source": [
    "from statsmodels.stats.outliers_influence import variance_inflation_factor\n",
    "from statsmodels.tools.tools import add_constant\n",
    "\n",
    "# Assuming X_scaled is your standardized feature matrix\n",
    "# Add a constant to calculate VIF\n",
    "X_with_constant = add_constant(x_scaled)"
   ]
  },
  {
   "cell_type": "code",
   "execution_count": 179,
   "id": "931b3ff2-4784-4d33-8208-f7df2034ebe8",
   "metadata": {},
   "outputs": [
    {
     "name": "stdout",
     "output_type": "stream",
     "text": [
      "                                Feature         VIF\n",
      "0                           day_posting    1.100125\n",
      "1           programming_languages_score    1.314997\n",
      "2             analysis_statistics_score    1.165820\n",
      "3                machine_learning_score    1.076835\n",
      "4              data_visualization_score    1.194964\n",
      "5                  cloud_platform_score    1.049769\n",
      "6                        database_score    1.159451\n",
      "7                  big_data_tools_score         NaN\n",
      "8                        big_data_score    1.141817\n",
      "9                          company_size    1.199009\n",
      "10                       follower_count    1.101650\n",
      "11                                  gdp  201.530230\n",
      "12                               income  201.313539\n",
      "13                         moving_score    1.315807\n",
      "14  degree_level_bachelor, postgraduate    1.001666\n",
      "15            degree_level_postgraduate    1.000656\n"
     ]
    },
    {
     "name": "stderr",
     "output_type": "stream",
     "text": [
      "/opt/anaconda3/lib/python3.11/site-packages/statsmodels/regression/linear_model.py:1781: RuntimeWarning: invalid value encountered in scalar divide\n",
      "  return 1 - self.ssr/self.centered_tss\n"
     ]
    }
   ],
   "source": [
    "# Calculate VIF for each feature\n",
    "vif_data = pd.DataFrame()\n",
    "vif_data[\"Feature\"] = [\"Constant\"] + list(X_scaled_df.columns)  # Match length correctly\n",
    "vif_data[\"VIF\"] = [variance_inflation_factor(X_with_constant, i) for i in range(X_with_constant.shape[1])]\n",
    "\n",
    "# Exclude the constant term's VIF from the results\n",
    "vif_data = vif_data.iloc[1:].reset_index(drop=True)\n",
    "\n",
    "# Display results\n",
    "print(vif_data)"
   ]
  },
  {
   "cell_type": "code",
   "execution_count": 161,
   "id": "ff318f22-748c-4d57-a387-cdd9b5732512",
   "metadata": {},
   "outputs": [],
   "source": [
    "import seaborn as sns\n",
    "import matplotlib.pyplot as plt"
   ]
  },
  {
   "cell_type": "code",
   "execution_count": 173,
   "id": "d8d9d64b-a5bc-4cdc-b4d5-5e475df907b3",
   "metadata": {},
   "outputs": [
    {
     "name": "stderr",
     "output_type": "stream",
     "text": [
      "/opt/anaconda3/lib/python3.11/site-packages/seaborn/matrix.py:260: FutureWarning: Format strings passed to MaskedConstant are ignored, but in future may error or produce different behavior\n",
      "  annotation = (\"{:\" + self.fmt + \"}\").format(val)\n"
     ]
    },
    {
     "data": {
      "image/png": "[encoded data removed]",
      "text/plain": [
       "<Figure size 1200x1000 with 2 Axes>"
      ]
     },
     "metadata": {},
     "output_type": "display_data"
    }
   ],
   "source": [
    "# Assuming X_scaled is the standardized feature matrix\n",
    "# Convert it back to a DataFrame for better visualization\n",
    "X_scaled_df = pd.DataFrame(x_scaled, columns=X.columns)\n",
    "\n",
    "# Compute the correlation matrix\n",
    "correlation_matrix = X_scaled_df.corr()\n",
    "\n",
    "# Plot the heatmap\n",
    "plt.figure(figsize=(12, 10))\n",
    "sns.heatmap(correlation_matrix, annot=True, fmt=\".2f\", cmap=\"coolwarm\", \n",
    "            cbar=True, square=True, linewidths=0.5)\n",
    "plt.title(\"Heatmap of Feature Correlations\", fontsize=16)\n",
    "plt.show()"
   ]
  },
  {
   "cell_type": "code",
   "execution_count": null,
   "id": "6b54b07d-5578-4d59-a22c-698a091979a1",
   "metadata": {},
   "outputs": [],
   "source": []
  }
 ],
 "metadata": {
  "kernelspec": {
   "display_name": "Python 3 (ipykernel)",
   "language": "python",
   "name": "python3"
  },
  "language_info": {
   "codemirror_mode": {
    "name": "ipython",
    "version": 3
   },
   "file_extension": ".py",
   "mimetype": "text/x-python",
   "name": "python",
   "nbconvert_exporter": "python",
   "pygments_lexer": "ipython3",
   "version": "3.11.7"
  }
 },
 "nbformat": 4,
 "nbformat_minor": 5
}
