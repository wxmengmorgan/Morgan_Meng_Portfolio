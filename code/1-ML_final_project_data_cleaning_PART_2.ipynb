{
 "cells": [
  {
   "cell_type": "code",
   "execution_count": 1,
   "id": "8dffad74-b5d4-42e8-9744-0377776b50b6",
   "metadata": {},
   "outputs": [],
   "source": [
    "import pandas as pd\n",
    "import numpy as np"
   ]
  },
  {
   "cell_type": "code",
   "execution_count": 2,
   "id": "843cc4dd-ef25-43b3-a864-8fa53e9e8339",
   "metadata": {},
   "outputs": [],
   "source": [
    "df= pd.read_csv('/Users/morgan/Desktop/SEIS 763 ML/cleaned_posting_32556_salary_info.csv',header=0)"
   ]
  },
  {
   "cell_type": "code",
   "execution_count": 3,
   "id": "23ed12d9-70ab-4b3d-bfb7-98cebc1f88c0",
   "metadata": {},
   "outputs": [
    {
     "data": {
      "text/html": [
       "<div>\n",
       "<style scoped>\n",
       "    .dataframe tbody tr th:only-of-type {\n",
       "        vertical-align: middle;\n",
       "    }\n",
       "\n",
       "    .dataframe tbody tr th {\n",
       "        vertical-align: top;\n",
       "    }\n",
       "\n",
       "    .dataframe thead th {\n",
       "        text-align: right;\n",
       "    }\n",
       "</style>\n",
       "<table border=\"1\" class=\"dataframe\">\n",
       "  <thead>\n",
       "    <tr style=\"text-align: right;\">\n",
       "      <th></th>\n",
       "      <th>job_id</th>\n",
       "      <th>company_name</th>\n",
       "      <th>title</th>\n",
       "      <th>description</th>\n",
       "      <th>max_salary</th>\n",
       "      <th>pay_period</th>\n",
       "      <th>location</th>\n",
       "      <th>company_id</th>\n",
       "      <th>views</th>\n",
       "      <th>min_salary</th>\n",
       "      <th>formatted_work_type</th>\n",
       "      <th>original_listed_time</th>\n",
       "      <th>expiry</th>\n",
       "      <th>formatted_experience_level</th>\n",
       "      <th>listed_time</th>\n",
       "      <th>work_type</th>\n",
       "      <th>currency</th>\n",
       "      <th>normalized_salary</th>\n",
       "      <th>zip_code</th>\n",
       "    </tr>\n",
       "  </thead>\n",
       "  <tbody>\n",
       "    <tr>\n",
       "      <th>0</th>\n",
       "      <td>921716</td>\n",
       "      <td>Corcoran Sawyer Smith</td>\n",
       "      <td>Marketing Coordinator</td>\n",
       "      <td>Job descriptionA leading real estate firm in N...</td>\n",
       "      <td>20.0</td>\n",
       "      <td>HOURLY</td>\n",
       "      <td>Princeton, NJ</td>\n",
       "      <td>2774458.0</td>\n",
       "      <td>20.0</td>\n",
       "      <td>17.0</td>\n",
       "      <td>Full-time</td>\n",
       "      <td>2024-04-17 23:45:08</td>\n",
       "      <td>2024-05-17 23:45:08</td>\n",
       "      <td>NaN</td>\n",
       "      <td>2024-04-17 23:45:08</td>\n",
       "      <td>FULL_TIME</td>\n",
       "      <td>USD</td>\n",
       "      <td>38480.0</td>\n",
       "      <td>8540.0</td>\n",
       "    </tr>\n",
       "    <tr>\n",
       "      <th>1</th>\n",
       "      <td>10998357</td>\n",
       "      <td>The National Exemplar</td>\n",
       "      <td>Assitant Restaurant Manager</td>\n",
       "      <td>The National Exemplar is accepting application...</td>\n",
       "      <td>65000.0</td>\n",
       "      <td>YEARLY</td>\n",
       "      <td>Cincinnati, OH</td>\n",
       "      <td>64896719.0</td>\n",
       "      <td>8.0</td>\n",
       "      <td>45000.0</td>\n",
       "      <td>Full-time</td>\n",
       "      <td>2024-04-16 14:26:54</td>\n",
       "      <td>2024-05-16 14:26:54</td>\n",
       "      <td>NaN</td>\n",
       "      <td>2024-04-16 14:26:54</td>\n",
       "      <td>FULL_TIME</td>\n",
       "      <td>USD</td>\n",
       "      <td>55000.0</td>\n",
       "      <td>45202.0</td>\n",
       "    </tr>\n",
       "    <tr>\n",
       "      <th>2</th>\n",
       "      <td>23221523</td>\n",
       "      <td>Abrams Fensterman, LLP</td>\n",
       "      <td>Senior Elder Law / Trusts and Estates Associat...</td>\n",
       "      <td>Senior Associate Attorney - Elder Law / Trusts...</td>\n",
       "      <td>175000.0</td>\n",
       "      <td>YEARLY</td>\n",
       "      <td>New Hyde Park, NY</td>\n",
       "      <td>766262.0</td>\n",
       "      <td>16.0</td>\n",
       "      <td>140000.0</td>\n",
       "      <td>Full-time</td>\n",
       "      <td>2024-04-12 04:23:32</td>\n",
       "      <td>2024-05-12 04:23:32</td>\n",
       "      <td>NaN</td>\n",
       "      <td>2024-04-12 04:23:32</td>\n",
       "      <td>FULL_TIME</td>\n",
       "      <td>USD</td>\n",
       "      <td>157500.0</td>\n",
       "      <td>11040.0</td>\n",
       "    </tr>\n",
       "    <tr>\n",
       "      <th>3</th>\n",
       "      <td>103254301</td>\n",
       "      <td>Raw Cereal</td>\n",
       "      <td>Producer</td>\n",
       "      <td>Company DescriptionRaw Cereal is a creative de...</td>\n",
       "      <td>300000.0</td>\n",
       "      <td>YEARLY</td>\n",
       "      <td>United States</td>\n",
       "      <td>81942316.0</td>\n",
       "      <td>7.0</td>\n",
       "      <td>60000.0</td>\n",
       "      <td>Contract</td>\n",
       "      <td>2024-04-11 18:43:39</td>\n",
       "      <td>2024-05-11 18:43:39</td>\n",
       "      <td>NaN</td>\n",
       "      <td>2024-04-11 18:43:39</td>\n",
       "      <td>CONTRACT</td>\n",
       "      <td>USD</td>\n",
       "      <td>180000.0</td>\n",
       "      <td>NaN</td>\n",
       "    </tr>\n",
       "    <tr>\n",
       "      <th>4</th>\n",
       "      <td>95428182</td>\n",
       "      <td>CLEVELAND KIDS BOOK BANK</td>\n",
       "      <td>Administrative Coordinator</td>\n",
       "      <td>Job Title: Administrative CoordinatorOrganizat...</td>\n",
       "      <td>NaN</td>\n",
       "      <td>HOURLY</td>\n",
       "      <td>Cleveland, OH</td>\n",
       "      <td>55624331.0</td>\n",
       "      <td>1.0</td>\n",
       "      <td>NaN</td>\n",
       "      <td>Full-time</td>\n",
       "      <td>2024-04-11 17:14:46</td>\n",
       "      <td>2024-05-11 17:14:46</td>\n",
       "      <td>NaN</td>\n",
       "      <td>2024-04-11 17:14:46</td>\n",
       "      <td>FULL_TIME</td>\n",
       "      <td>USD</td>\n",
       "      <td>52000.0</td>\n",
       "      <td>44102.0</td>\n",
       "    </tr>\n",
       "  </tbody>\n",
       "</table>\n",
       "</div>"
      ],
      "text/plain": [
       "      job_id              company_name  \\\n",
       "0     921716     Corcoran Sawyer Smith   \n",
       "1   10998357    The National Exemplar    \n",
       "2   23221523    Abrams Fensterman, LLP   \n",
       "3  103254301                Raw Cereal   \n",
       "4   95428182  CLEVELAND KIDS BOOK BANK   \n",
       "\n",
       "                                               title  \\\n",
       "0                              Marketing Coordinator   \n",
       "1                        Assitant Restaurant Manager   \n",
       "2  Senior Elder Law / Trusts and Estates Associat...   \n",
       "3                                           Producer   \n",
       "4                         Administrative Coordinator   \n",
       "\n",
       "                                         description  max_salary pay_period  \\\n",
       "0  Job descriptionA leading real estate firm in N...        20.0     HOURLY   \n",
       "1  The National Exemplar is accepting application...     65000.0     YEARLY   \n",
       "2  Senior Associate Attorney - Elder Law / Trusts...    175000.0     YEARLY   \n",
       "3  Company DescriptionRaw Cereal is a creative de...    300000.0     YEARLY   \n",
       "4  Job Title: Administrative CoordinatorOrganizat...         NaN     HOURLY   \n",
       "\n",
       "            location  company_id  views  min_salary formatted_work_type  \\\n",
       "0      Princeton, NJ   2774458.0   20.0        17.0           Full-time   \n",
       "1     Cincinnati, OH  64896719.0    8.0     45000.0           Full-time   \n",
       "2  New Hyde Park, NY    766262.0   16.0    140000.0           Full-time   \n",
       "3      United States  81942316.0    7.0     60000.0            Contract   \n",
       "4      Cleveland, OH  55624331.0    1.0         NaN           Full-time   \n",
       "\n",
       "  original_listed_time               expiry formatted_experience_level  \\\n",
       "0  2024-04-17 23:45:08  2024-05-17 23:45:08                        NaN   \n",
       "1  2024-04-16 14:26:54  2024-05-16 14:26:54                        NaN   \n",
       "2  2024-04-12 04:23:32  2024-05-12 04:23:32                        NaN   \n",
       "3  2024-04-11 18:43:39  2024-05-11 18:43:39                        NaN   \n",
       "4  2024-04-11 17:14:46  2024-05-11 17:14:46                        NaN   \n",
       "\n",
       "           listed_time  work_type currency  normalized_salary  zip_code  \n",
       "0  2024-04-17 23:45:08  FULL_TIME      USD            38480.0    8540.0  \n",
       "1  2024-04-16 14:26:54  FULL_TIME      USD            55000.0   45202.0  \n",
       "2  2024-04-12 04:23:32  FULL_TIME      USD           157500.0   11040.0  \n",
       "3  2024-04-11 18:43:39   CONTRACT      USD           180000.0       NaN  \n",
       "4  2024-04-11 17:14:46  FULL_TIME      USD            52000.0   44102.0  "
      ]
     },
     "execution_count": 3,
     "metadata": {},
     "output_type": "execute_result"
    }
   ],
   "source": [
    "df.head()"
   ]
  },
  {
   "cell_type": "code",
   "execution_count": 4,
   "id": "8a9cad1c-01a9-4de2-8f84-27c48db3a252",
   "metadata": {},
   "outputs": [
    {
     "data": {
      "text/plain": [
       "(32556, 19)"
      ]
     },
     "execution_count": 4,
     "metadata": {},
     "output_type": "execute_result"
    }
   ],
   "source": [
    "df.shape"
   ]
  },
  {
   "cell_type": "markdown",
   "id": "06947fcc-6e2f-462c-8b4c-3a7c387081ff",
   "metadata": {},
   "source": [
    "## Further cleaning up and correct salary columns."
   ]
  },
  {
   "cell_type": "code",
   "execution_count": 6,
   "id": "8f3fd102-70c1-480f-afb9-d77939ede07a",
   "metadata": {},
   "outputs": [],
   "source": [
    "#deleting unusal records\n",
    "df = df[~((df['pay_period'] == 'HOURLY') & (df['max_salary'] > 1000)&(df['max_salary'] < 10000))]"
   ]
  },
  {
   "cell_type": "code",
   "execution_count": 7,
   "id": "4cd5d56e-c57c-4f17-85d9-dd51a2309d21",
   "metadata": {},
   "outputs": [
    {
     "data": {
      "text/plain": [
       "(32555, 19)"
      ]
     },
     "execution_count": 7,
     "metadata": {},
     "output_type": "execute_result"
    }
   ],
   "source": [
    "df.shape"
   ]
  },
  {
   "cell_type": "code",
   "execution_count": 8,
   "id": "4cba9029-5d47-43a3-b8fc-ee1fdd389732",
   "metadata": {},
   "outputs": [],
   "source": [
    "# correct pay_period types and correct normalized salary\n",
    "df.loc[(df['pay_period'] == \"HOURLY\") & (df['max_salary'] >= 500), 'normalized_salary'] = (df['max_salary']+df['min_salary'])/2\n",
    "df.loc[(df['pay_period'] == \"HOURLY\") & (df['max_salary'] >= 500), 'pay_period'] = \"YEARLY\""
   ]
  },
  {
   "cell_type": "code",
   "execution_count": 9,
   "id": "3cf805e3-1d31-46dc-a21a-254d13642145",
   "metadata": {},
   "outputs": [],
   "source": [
    "#hourly=df[df['pay_period']=='HOURLY']\n",
    "#hourly['normalized_salary'].describe()"
   ]
  },
  {
   "cell_type": "code",
   "execution_count": 10,
   "id": "d20561fa-4520-4fbd-9d77-7747c6d8bf5e",
   "metadata": {},
   "outputs": [],
   "source": [
    "#print(hourly['max_salary'].describe())\n",
    "#print(hourly['min_salary'].describe())"
   ]
  },
  {
   "cell_type": "code",
   "execution_count": 11,
   "id": "590e9f0e-8593-4cbc-ac71-41e75d406e57",
   "metadata": {},
   "outputs": [],
   "source": [
    "#convert hourly salary into yearly, 2028 hours for a year\n",
    "df.loc[df['pay_period'] == \"HOURLY\", 'max_salary'] *= 2080\n",
    "df.loc[df['pay_period'] == \"HOURLY\", 'min_salary'] *= 2080"
   ]
  },
  {
   "cell_type": "code",
   "execution_count": 12,
   "id": "dc6b4577-d4c8-4d18-ac7a-17033953f54c",
   "metadata": {},
   "outputs": [
    {
     "data": {
      "text/plain": [
       "(32555, 18)"
      ]
     },
     "execution_count": 12,
     "metadata": {},
     "output_type": "execute_result"
    }
   ],
   "source": [
    "#remove pay period column since all data are convert to yearly salary\n",
    "df=df.drop('pay_period',axis=1)\n",
    "df.shape"
   ]
  },
  {
   "cell_type": "markdown",
   "id": "9a729eaa-2feb-4806-8d2e-d9f5726cb4f2",
   "metadata": {},
   "source": [
    "## Add company info for each postings\n",
    "\n"
   ]
  },
  {
   "cell_type": "code",
   "execution_count": 14,
   "id": "07bc694a-9117-4420-a378-88d48ffc1747",
   "metadata": {},
   "outputs": [],
   "source": [
    "company= pd.read_csv('/Users/morgan/Desktop/SEIS 763 ML/archive/companies/companies.csv',header=0)\n",
    "industry= pd.read_csv('/Users/morgan/Desktop/SEIS 763 ML/archive/companies/company_industries.csv',header=0)\n",
    "specs= pd.read_csv('/Users/morgan/Desktop/SEIS 763 ML/archive/companies/company_specialities.csv',header=0)\n",
    "size= pd.read_csv('/Users/morgan/Desktop/SEIS 763 ML/archive/companies/employee_counts.csv',header=0)"
   ]
  },
  {
   "cell_type": "code",
   "execution_count": 15,
   "id": "dbd69bf5-5569-4b4b-a3ac-eba9ce56ebe8",
   "metadata": {},
   "outputs": [],
   "source": [
    "company_full = pd.merge(company, industry, how='outer', on='company_id')"
   ]
  },
  {
   "cell_type": "code",
   "execution_count": 16,
   "id": "6393b04a-0472-4e71-8354-705787082654",
   "metadata": {},
   "outputs": [],
   "source": [
    "#df['description'][6]"
   ]
  },
  {
   "cell_type": "code",
   "execution_count": 17,
   "id": "5ea2c32a-573a-4fde-b609-740e40225101",
   "metadata": {},
   "outputs": [],
   "source": [
    "# remove duplication for size records\n",
    "size=size.loc[size.groupby('company_id')['time_recorded'].idxmax()]\n",
    "size.head()\n",
    "\n",
    "#pivot specialty \n",
    "specs=specs.groupby('company_id', as_index=False).agg({\n",
    "    'speciality': ', '.join\n",
    "})"
   ]
  },
  {
   "cell_type": "code",
   "execution_count": 18,
   "id": "c03757ba-e036-489a-95ac-0da285c10446",
   "metadata": {},
   "outputs": [],
   "source": [
    "#merging all sheet\n",
    "company_full = pd.merge(company_full, specs, how='outer', on='company_id')\n",
    "company_full = pd.merge(company_full, size, how='outer', on='company_id')"
   ]
  },
  {
   "cell_type": "code",
   "execution_count": 19,
   "id": "c17e8734-45ed-4e41-a360-79817699d7d3",
   "metadata": {},
   "outputs": [],
   "source": [
    "#rename columns to distinguish between job location and headquarter location \n",
    "company_full=company_full.rename(columns={'description':'company desc',\n",
    "                                          'state':'headquarter state',\n",
    "                                          'city':'headquarter city',\n",
    "                                          'zip_code':'headquarter zipcode',\n",
    "                                          'address':'headquarter addr'})"
   ]
  },
  {
   "cell_type": "code",
   "execution_count": 20,
   "id": "781d4310-5341-4d87-bb8c-72dce7557564",
   "metadata": {},
   "outputs": [],
   "source": [
    "company_full['time_recorded'] = pd.to_datetime(company_full['time_recorded'], unit='ms')"
   ]
  },
  {
   "cell_type": "code",
   "execution_count": 53,
   "id": "204913fa-9aeb-4c14-b153-9c24aa81b07c",
   "metadata": {},
   "outputs": [],
   "source": [
    "#company_full=company_full.drop(['url'],axis=1)\n",
    "# Remove duplicate rows based on 'company_id'\n",
    "company_full = company_full.drop_duplicates(subset='company_id', keep='first')"
   ]
  },
  {
   "cell_type": "code",
   "execution_count": 55,
   "id": "d5c59a87-0469-4d3d-b875-92fb4200f07a",
   "metadata": {},
   "outputs": [
    {
     "name": "stdout",
     "output_type": "stream",
     "text": [
      "(24473, 14)\n",
      "Index(['company_id', 'name', 'company desc', 'company_size',\n",
      "       'headquarter state', 'country', 'headquarter city',\n",
      "       'headquarter zipcode', 'headquarter addr', 'industry', 'speciality',\n",
      "       'employee_count', 'follower_count', 'time_recorded'],\n",
      "      dtype='object')\n"
     ]
    }
   ],
   "source": [
    "print(company_full.shape)\n",
    "print(company_full.columns)"
   ]
  },
  {
   "cell_type": "code",
   "execution_count": 57,
   "id": "3545edb9-26f5-4ef0-8700-d1ada6f640d1",
   "metadata": {},
   "outputs": [],
   "source": [
    "new_df=df"
   ]
  },
  {
   "cell_type": "code",
   "execution_count": 59,
   "id": "d3bbea6e-b675-469c-8868-c2cad00a276b",
   "metadata": {},
   "outputs": [],
   "source": [
    "new_df= pd.merge(new_df,company_full, how='left', on='company_id') \n",
    "# Join matching rows from company_full to df."
   ]
  },
  {
   "cell_type": "code",
   "execution_count": 61,
   "id": "a367da33-ecac-40fa-8c86-01473eca1d9c",
   "metadata": {},
   "outputs": [
    {
     "data": {
      "text/plain": [
       "(32555, 31)"
      ]
     },
     "execution_count": 61,
     "metadata": {},
     "output_type": "execute_result"
    }
   ],
   "source": [
    "new_df.shape"
   ]
  },
  {
   "cell_type": "code",
   "execution_count": 63,
   "id": "86a57b49-6164-4e43-9dd7-ca7dbc84f468",
   "metadata": {},
   "outputs": [
    {
     "data": {
      "text/html": [
       "<div>\n",
       "<style scoped>\n",
       "    .dataframe tbody tr th:only-of-type {\n",
       "        vertical-align: middle;\n",
       "    }\n",
       "\n",
       "    .dataframe tbody tr th {\n",
       "        vertical-align: top;\n",
       "    }\n",
       "\n",
       "    .dataframe thead th {\n",
       "        text-align: right;\n",
       "    }\n",
       "</style>\n",
       "<table border=\"1\" class=\"dataframe\">\n",
       "  <thead>\n",
       "    <tr style=\"text-align: right;\">\n",
       "      <th></th>\n",
       "      <th>job_id</th>\n",
       "      <th>company_name</th>\n",
       "      <th>title</th>\n",
       "      <th>description</th>\n",
       "      <th>max_salary</th>\n",
       "      <th>location</th>\n",
       "      <th>company_id</th>\n",
       "      <th>views</th>\n",
       "      <th>min_salary</th>\n",
       "      <th>formatted_work_type</th>\n",
       "      <th>...</th>\n",
       "      <th>headquarter state</th>\n",
       "      <th>country</th>\n",
       "      <th>headquarter city</th>\n",
       "      <th>headquarter zipcode</th>\n",
       "      <th>headquarter addr</th>\n",
       "      <th>industry</th>\n",
       "      <th>speciality</th>\n",
       "      <th>employee_count</th>\n",
       "      <th>follower_count</th>\n",
       "      <th>time_recorded</th>\n",
       "    </tr>\n",
       "  </thead>\n",
       "  <tbody>\n",
       "    <tr>\n",
       "      <th>0</th>\n",
       "      <td>921716</td>\n",
       "      <td>Corcoran Sawyer Smith</td>\n",
       "      <td>Marketing Coordinator</td>\n",
       "      <td>Job descriptionA leading real estate firm in N...</td>\n",
       "      <td>41600.0</td>\n",
       "      <td>Princeton, NJ</td>\n",
       "      <td>2774458.0</td>\n",
       "      <td>20.0</td>\n",
       "      <td>35360.0</td>\n",
       "      <td>Full-time</td>\n",
       "      <td>...</td>\n",
       "      <td>NJ</td>\n",
       "      <td>US</td>\n",
       "      <td>Jersey City</td>\n",
       "      <td>07302</td>\n",
       "      <td>242 Tenth Street</td>\n",
       "      <td>Real Estate</td>\n",
       "      <td>real estate, new development</td>\n",
       "      <td>402</td>\n",
       "      <td>2351</td>\n",
       "      <td>1970-01-20 19:56:49.275</td>\n",
       "    </tr>\n",
       "    <tr>\n",
       "      <th>1</th>\n",
       "      <td>10998357</td>\n",
       "      <td>The National Exemplar</td>\n",
       "      <td>Assitant Restaurant Manager</td>\n",
       "      <td>The National Exemplar is accepting application...</td>\n",
       "      <td>65000.0</td>\n",
       "      <td>Cincinnati, OH</td>\n",
       "      <td>64896719.0</td>\n",
       "      <td>8.0</td>\n",
       "      <td>45000.0</td>\n",
       "      <td>Full-time</td>\n",
       "      <td>...</td>\n",
       "      <td>Ohio</td>\n",
       "      <td>US</td>\n",
       "      <td>Mariemont</td>\n",
       "      <td>45227</td>\n",
       "      <td>6880 Wooster Pike</td>\n",
       "      <td>Restaurants</td>\n",
       "      <td>NaN</td>\n",
       "      <td>15</td>\n",
       "      <td>40</td>\n",
       "      <td>1970-01-20 19:54:39.321</td>\n",
       "    </tr>\n",
       "    <tr>\n",
       "      <th>2</th>\n",
       "      <td>23221523</td>\n",
       "      <td>Abrams Fensterman, LLP</td>\n",
       "      <td>Senior Elder Law / Trusts and Estates Associat...</td>\n",
       "      <td>Senior Associate Attorney - Elder Law / Trusts...</td>\n",
       "      <td>175000.0</td>\n",
       "      <td>New Hyde Park, NY</td>\n",
       "      <td>766262.0</td>\n",
       "      <td>16.0</td>\n",
       "      <td>140000.0</td>\n",
       "      <td>Full-time</td>\n",
       "      <td>...</td>\n",
       "      <td>New York</td>\n",
       "      <td>US</td>\n",
       "      <td>Lake Success</td>\n",
       "      <td>11042</td>\n",
       "      <td>3 Dakota Drive</td>\n",
       "      <td>Law Practice</td>\n",
       "      <td>Civil Litigation, Corporate &amp; Securities Law, ...</td>\n",
       "      <td>222</td>\n",
       "      <td>2427</td>\n",
       "      <td>1970-01-20 19:48:17.299</td>\n",
       "    </tr>\n",
       "    <tr>\n",
       "      <th>3</th>\n",
       "      <td>103254301</td>\n",
       "      <td>Raw Cereal</td>\n",
       "      <td>Producer</td>\n",
       "      <td>Company DescriptionRaw Cereal is a creative de...</td>\n",
       "      <td>300000.0</td>\n",
       "      <td>United States</td>\n",
       "      <td>81942316.0</td>\n",
       "      <td>7.0</td>\n",
       "      <td>60000.0</td>\n",
       "      <td>Contract</td>\n",
       "      <td>...</td>\n",
       "      <td>CA</td>\n",
       "      <td>US</td>\n",
       "      <td>Los Angeles</td>\n",
       "      <td>90017</td>\n",
       "      <td>0</td>\n",
       "      <td>Design Services</td>\n",
       "      <td>NaN</td>\n",
       "      <td>11</td>\n",
       "      <td>447</td>\n",
       "      <td>1970-01-20 19:47:41.202</td>\n",
       "    </tr>\n",
       "    <tr>\n",
       "      <th>4</th>\n",
       "      <td>95428182</td>\n",
       "      <td>CLEVELAND KIDS BOOK BANK</td>\n",
       "      <td>Administrative Coordinator</td>\n",
       "      <td>Job Title: Administrative CoordinatorOrganizat...</td>\n",
       "      <td>NaN</td>\n",
       "      <td>Cleveland, OH</td>\n",
       "      <td>55624331.0</td>\n",
       "      <td>1.0</td>\n",
       "      <td>NaN</td>\n",
       "      <td>Full-time</td>\n",
       "      <td>...</td>\n",
       "      <td>Ohio</td>\n",
       "      <td>US</td>\n",
       "      <td>Cleveland</td>\n",
       "      <td>44114</td>\n",
       "      <td>3635 PERKINS AVE</td>\n",
       "      <td>Non-profit Organizations</td>\n",
       "      <td>NaN</td>\n",
       "      <td>6</td>\n",
       "      <td>289</td>\n",
       "      <td>1970-01-20 19:47:36.403</td>\n",
       "    </tr>\n",
       "  </tbody>\n",
       "</table>\n",
       "<p>5 rows × 31 columns</p>\n",
       "</div>"
      ],
      "text/plain": [
       "      job_id              company_name  \\\n",
       "0     921716     Corcoran Sawyer Smith   \n",
       "1   10998357    The National Exemplar    \n",
       "2   23221523    Abrams Fensterman, LLP   \n",
       "3  103254301                Raw Cereal   \n",
       "4   95428182  CLEVELAND KIDS BOOK BANK   \n",
       "\n",
       "                                               title  \\\n",
       "0                              Marketing Coordinator   \n",
       "1                        Assitant Restaurant Manager   \n",
       "2  Senior Elder Law / Trusts and Estates Associat...   \n",
       "3                                           Producer   \n",
       "4                         Administrative Coordinator   \n",
       "\n",
       "                                         description  max_salary  \\\n",
       "0  Job descriptionA leading real estate firm in N...     41600.0   \n",
       "1  The National Exemplar is accepting application...     65000.0   \n",
       "2  Senior Associate Attorney - Elder Law / Trusts...    175000.0   \n",
       "3  Company DescriptionRaw Cereal is a creative de...    300000.0   \n",
       "4  Job Title: Administrative CoordinatorOrganizat...         NaN   \n",
       "\n",
       "            location  company_id  views  min_salary formatted_work_type  ...  \\\n",
       "0      Princeton, NJ   2774458.0   20.0     35360.0           Full-time  ...   \n",
       "1     Cincinnati, OH  64896719.0    8.0     45000.0           Full-time  ...   \n",
       "2  New Hyde Park, NY    766262.0   16.0    140000.0           Full-time  ...   \n",
       "3      United States  81942316.0    7.0     60000.0            Contract  ...   \n",
       "4      Cleveland, OH  55624331.0    1.0         NaN           Full-time  ...   \n",
       "\n",
       "  headquarter state country headquarter city headquarter zipcode  \\\n",
       "0                NJ      US      Jersey City               07302   \n",
       "1              Ohio      US        Mariemont               45227   \n",
       "2          New York      US     Lake Success               11042   \n",
       "3                CA      US     Los Angeles                90017   \n",
       "4              Ohio      US        Cleveland               44114   \n",
       "\n",
       "    headquarter addr                  industry  \\\n",
       "0   242 Tenth Street               Real Estate   \n",
       "1  6880 Wooster Pike               Restaurants   \n",
       "2     3 Dakota Drive              Law Practice   \n",
       "3                  0           Design Services   \n",
       "4   3635 PERKINS AVE  Non-profit Organizations   \n",
       "\n",
       "                                          speciality  employee_count  \\\n",
       "0                       real estate, new development             402   \n",
       "1                                                NaN              15   \n",
       "2  Civil Litigation, Corporate & Securities Law, ...             222   \n",
       "3                                                NaN              11   \n",
       "4                                                NaN               6   \n",
       "\n",
       "  follower_count           time_recorded  \n",
       "0           2351 1970-01-20 19:56:49.275  \n",
       "1             40 1970-01-20 19:54:39.321  \n",
       "2           2427 1970-01-20 19:48:17.299  \n",
       "3            447 1970-01-20 19:47:41.202  \n",
       "4            289 1970-01-20 19:47:36.403  \n",
       "\n",
       "[5 rows x 31 columns]"
      ]
     },
     "execution_count": 63,
     "metadata": {},
     "output_type": "execute_result"
    }
   ],
   "source": [
    "new_df.head()"
   ]
  },
  {
   "cell_type": "code",
   "execution_count": 65,
   "id": "1006e9e9-46db-4a7a-b857-0ee7b237bfbd",
   "metadata": {},
   "outputs": [],
   "source": [
    "#new_df.to_csv('posting_32556_salary_info& company info.csv', index=False) "
   ]
  },
  {
   "cell_type": "code",
   "execution_count": null,
   "id": "a2f5e885-650a-4c0c-a5c7-ac7c2a696fc9",
   "metadata": {},
   "outputs": [],
   "source": []
  }
 ],
 "metadata": {
  "kernelspec": {
   "display_name": "Python 3 (ipykernel)",
   "language": "python",
   "name": "python3"
  },
  "language_info": {
   "codemirror_mode": {
    "name": "ipython",
    "version": 3
   },
   "file_extension": ".py",
   "mimetype": "text/x-python",
   "name": "python",
   "nbconvert_exporter": "python",
   "pygments_lexer": "ipython3",
   "version": "3.11.7"
  }
 },
 "nbformat": 4,
 "nbformat_minor": 5
}
